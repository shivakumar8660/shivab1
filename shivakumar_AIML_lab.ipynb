{
  "cells": [
    {
      "cell_type": "markdown",
      "metadata": {
        "id": "view-in-github",
        "colab_type": "text"
      },
      "source": [
        "<a href=\"https://colab.research.google.com/github/shivakumar8660/shivab1/blob/main/shivakumar_AIML_lab.ipynb\" target=\"_parent\"><img src=\"https://colab.research.google.com/assets/colab-badge.svg\" alt=\"Open In Colab\"/></a>"
      ]
    },
    {
      "cell_type": "code",
      "source": [
        "import numpy as np\n",
        "a=np.array([1,2,3,4,5])\n",
        "b=np.array([10,20,30,40,50])\n",
        "sum_array=a+b\n",
        "diff_array=b-a\n",
        "Product_array=a*b\n",
        "mean_a=np.mean(a)\n",
        "max_b=np.max(b)\n",
        "min_b=np.min(b)\n",
        "print(\"array a:\",a)\n",
        "print(\"array b:\",b)\n",
        "print(\"sum:\",sum_array)\n",
        "print(\"difference:\",diff_array)\n",
        "print(\"product:\",Product_array)\n",
        "print(\"mean of a:\",mean_a)\n",
        "print(\"max of b:\",max_b)\n",
        "print(\"min of b:\",min_b)\n"
      ],
      "metadata": {
        "id": "dl5H1MSSUeQJ",
        "colab": {
          "base_uri": "https://localhost:8080/"
        },
        "outputId": "62679ce7-2585-4749-e1b8-336bbf534aa8"
      },
      "execution_count": null,
      "outputs": [
        {
          "output_type": "stream",
          "name": "stdout",
          "text": [
            "array a: [1 2 3 4 5]\n",
            "array b: [10 20 30 40 50]\n",
            "sum: [11 22 33 44 55]\n",
            "difference: [ 9 18 27 36 45]\n",
            "product: [ 10  40  90 160 250]\n",
            "mean of a: 3.0\n",
            "max of b: 50\n",
            "min of b: 10\n"
          ]
        }
      ]
    },
    {
      "cell_type": "code",
      "source": [
        "import numpy as np\n",
        "arr=np.array([[1,2,3],[4,5,6]])\n",
        "print(\"element at (0,1):\",arr[0,1])\n",
        "print(\"second row:\",arr[1])\n",
        "print(arr)"
      ],
      "metadata": {
        "colab": {
          "base_uri": "https://localhost:8080/"
        },
        "id": "KR1H1boo9j9b",
        "outputId": "d59fa178-f25a-44ba-e9dd-453457b27af5"
      },
      "execution_count": null,
      "outputs": [
        {
          "output_type": "stream",
          "name": "stdout",
          "text": [
            "element at (0,1): 2\n",
            "second row: [4 5 6]\n",
            "[[1 2 3]\n",
            " [4 5 6]]\n"
          ]
        }
      ]
    },
    {
      "cell_type": "code",
      "source": [
        "a=np.array([5,10,15])\n",
        "b=np.array([1,2,3])\n",
        "result=a+b\n",
        "print(\"sum:\",result)"
      ],
      "metadata": {
        "colab": {
          "base_uri": "https://localhost:8080/"
        },
        "id": "g6L4LFPi_IHB",
        "outputId": "532c448a-1736-4262-9a68-950528c4f304"
      },
      "execution_count": null,
      "outputs": [
        {
          "output_type": "stream",
          "name": "stdout",
          "text": [
            "sum: [ 6 12 18]\n"
          ]
        }
      ]
    },
    {
      "cell_type": "code",
      "source": [
        "import numpy as np\n",
        "rand_array=np.random.randint(1,100,size=10)\n",
        "print(\"random array:\",rand_array)\n",
        "print(\"maximum:\",np.max(rand_array))\n",
        "print(\"minimum:\",np.min(rand_array))"
      ],
      "metadata": {
        "colab": {
          "base_uri": "https://localhost:8080/"
        },
        "id": "z9MQ44je_mhP",
        "outputId": "1f3bcab4-6db2-47c6-8945-fc7c5639f3c2"
      },
      "execution_count": null,
      "outputs": [
        {
          "output_type": "stream",
          "name": "stdout",
          "text": [
            "random array: [ 3 58 10 85 12 32 16 50 10 50]\n",
            "maximum: 85\n",
            "minimum: 3\n"
          ]
        }
      ]
    },
    {
      "cell_type": "code",
      "source": [
        "import numpy as np\n",
        "arr=np.array([1,2,3,4,5,6])\n",
        "reshaped=arr.reshape(2,3)\n",
        "print(\"reshaped(2*3):\\n\",reshaped)"
      ],
      "metadata": {
        "colab": {
          "base_uri": "https://localhost:8080/"
        },
        "id": "tk1hpUjpAs2A",
        "outputId": "6e0031c3-b2f5-45ca-d0ff-edb77aa1fc7b"
      },
      "execution_count": null,
      "outputs": [
        {
          "output_type": "stream",
          "name": "stdout",
          "text": [
            "reshaped(2*3):\n",
            " [[1 2 3]\n",
            " [4 5 6]]\n"
          ]
        }
      ]
    },
    {
      "cell_type": "code",
      "source": [
        "import numpy as np\n",
        "arr=np.array([10,20,30,40,50])\n",
        "filtered=arr[arr>25]\n",
        "print(\"Elements>25:\",filtered)"
      ],
      "metadata": {
        "colab": {
          "base_uri": "https://localhost:8080/"
        },
        "id": "OAtQ_zmt3bTB",
        "outputId": "5448c2c5-7a27-4720-bf8a-1ed90d5aa643"
      },
      "execution_count": 1,
      "outputs": [
        {
          "output_type": "stream",
          "name": "stdout",
          "text": [
            "Elements>25: [30 40 50]\n"
          ]
        }
      ]
    },
    {
      "cell_type": "code",
      "source": [
        "import numpy as np\n",
        "A=np.array([[1,2],[3,4]])\n",
        "B=np.array([[5,6],[7,8]])\n",
        "result=np.dot(A,B)\n",
        "print(\"Matrix A:\\n\",A)\n",
        "print(\"Matrix B:\\n\",B)\n",
        "print(\"dot product:\\n\",result)"
      ],
      "metadata": {
        "colab": {
          "base_uri": "https://localhost:8080/"
        },
        "id": "th3W7i263-LT",
        "outputId": "e337634d-b6c3-4abf-f513-a18987a48961"
      },
      "execution_count": 2,
      "outputs": [
        {
          "output_type": "stream",
          "name": "stdout",
          "text": [
            "Matrix A:\n",
            " [[1 2]\n",
            " [3 4]]\n",
            "Matrix B:\n",
            " [[5 6]\n",
            " [7 8]]\n",
            "dot product:\n",
            " [[19 22]\n",
            " [43 50]]\n"
          ]
        }
      ]
    },
    {
      "cell_type": "code",
      "source": [
        "data=np.array([1,2,3,4,5,6])\n",
        "print(\"Mean:\",np.mean(data))\n",
        "print(\"Median:\",np.median(data))\n",
        "print(\"standard deviation:\",np.std(data))"
      ],
      "metadata": {
        "colab": {
          "base_uri": "https://localhost:8080/"
        },
        "id": "dc_A5srL8cZs",
        "outputId": "27d0d84a-076a-4cce-f5ef-3885c1eb6d5a"
      },
      "execution_count": 3,
      "outputs": [
        {
          "output_type": "stream",
          "name": "stdout",
          "text": [
            "Mean: 3.5\n",
            "Median: 3.5\n",
            "standard deviation: 1.707825127659933\n"
          ]
        }
      ]
    },
    {
      "cell_type": "code",
      "source": [
        "a=np.arange(0,10)\n",
        "b=np.linspace(0,2*np.pi,10)\n",
        "print(\"Arange:\",a)\n",
        "print(\"Linspace:\",b)"
      ],
      "metadata": {
        "colab": {
          "base_uri": "https://localhost:8080/"
        },
        "id": "yAWCCPZF9IPQ",
        "outputId": "56400f37-5e31-46ba-93eb-1880e1511632"
      },
      "execution_count": 6,
      "outputs": [
        {
          "output_type": "stream",
          "name": "stdout",
          "text": [
            "Arange: [0 1 2 3 4 5 6 7 8 9]\n",
            "Linspace: [0.         0.6981317  1.3962634  2.0943951  2.7925268  3.4906585\n",
            " 4.1887902  4.88692191 5.58505361 6.28318531]\n"
          ]
        }
      ]
    },
    {
      "cell_type": "code",
      "source": [
        "import pandas as pd\n",
        "data={\n",
        "    'Name':['Alice','Bob','Charlie'],\n",
        "    'Age':[25,30,22],\n",
        "    'Score':[85,90,95]\n",
        "  }\n",
        "df=pd.DataFrame(data)\n",
        "print(df)"
      ],
      "metadata": {
        "colab": {
          "base_uri": "https://localhost:8080/"
        },
        "id": "po12luRm97Uq",
        "outputId": "aabd905e-82f4-4c10-e3eb-679d8e50e274"
      },
      "execution_count": 8,
      "outputs": [
        {
          "output_type": "stream",
          "name": "stdout",
          "text": [
            "      Name  Age  Score\n",
            "0    Alice   25     85\n",
            "1      Bob   30     90\n",
            "2  Charlie   22     95\n"
          ]
        }
      ]
    },
    {
      "cell_type": "code",
      "source": [
        "import matplotlib.pyplot as plt\n",
        "ages=[18,22,21,25,30,30,27,25,22,14]\n",
        "plt.hist(ages,bins=5,color='green')\n",
        "plt.title(\"age distribution\")\n",
        "plt.xlabel(\"age\")\n",
        "plt.ylabel(\"frequency\")\n",
        "plt.show()"
      ],
      "metadata": {
        "colab": {
          "base_uri": "https://localhost:8080/",
          "height": 472
        },
        "id": "BTv2YTeWm_8P",
        "outputId": "f9b85c4d-5cb3-4432-9289-2093736208f1"
      },
      "execution_count": null,
      "outputs": [
        {
          "output_type": "display_data",
          "data": {
            "text/plain": [
              "<Figure size 640x480 with 1 Axes>"
            ],
            "image/png": "[encoded data removed]"
          },
          "metadata": {}
        }
      ]
    },
    {
      "cell_type": "code",
      "source": [
        "x=[1,2,3,4,5]\n",
        "y=[5,7,6,8,10]\n",
        "plt.scatter(x,y,color='red')\n",
        "plt.title(\"scatter plot example\")\n",
        "plt.xlabel(\"x values\")\n",
        "plt.ylabel(\"y values\")\n",
        "plt.show()"
      ],
      "metadata": {
        "colab": {
          "base_uri": "https://localhost:8080/",
          "height": 472
        },
        "id": "Cf-o2tdbqDfL",
        "outputId": "43728633-0a35-47f8-9de4-b418c40d724e"
      },
      "execution_count": null,
      "outputs": [
        {
          "output_type": "display_data",
          "data": {
            "text/plain": [
              "<Figure size 640x480 with 1 Axes>"
            ],
            "image/png": "[encoded data removed]"
          },
          "metadata": {}
        }
      ]
    },
    {
      "cell_type": "code",
      "source": [
        "import matplotlib.pyplot as plt\n",
        "labels=['python','java','c++','c']\n",
        "sizes=[40,25,20,15]\n",
        "plt.pie(sizes,labels=labels,autopct='% 1.1f %%',startangle=140)\n",
        "plt.title(\"programming language usage\")\n",
        "plt.axis('equal')\n",
        "plt.show()"
      ],
      "metadata": {
        "colab": {
          "base_uri": "https://localhost:8080/",
          "height": 428
        },
        "id": "HwCKPha8RuJU",
        "outputId": "7502f4c8-34ee-47cf-be31-e28e6d8c8290"
      },
      "execution_count": null,
      "outputs": [
        {
          "output_type": "display_data",
          "data": {
            "text/plain": [
              "<Figure size 640x480 with 1 Axes>"
            ],
            "image/png": "[encoded data removed]"
          },
          "metadata": {}
        }
      ]
    },
    {
      "cell_type": "code",
      "source": [
        "add=lambda x,y:x+y\n",
        "print(add(5,3))\n"
      ],
      "metadata": {
        "colab": {
          "base_uri": "https://localhost:8080/"
        },
        "id": "-SQcoaqUq-YC",
        "outputId": "f220d090-09f6-465a-d2c5-b5ffc2a068af"
      },
      "execution_count": null,
      "outputs": [
        {
          "output_type": "stream",
          "name": "stdout",
          "text": [
            "8\n"
          ]
        }
      ]
    },
    {
      "cell_type": "code",
      "source": [
        "Square=lambda x:x**2\n",
        "print(Square(4))\n"
      ],
      "metadata": {
        "colab": {
          "base_uri": "https://localhost:8080/"
        },
        "id": "CD92X7P1sVqP",
        "outputId": "bf3bd961-d564-49bd-a1c9-0e1f39b6db77"
      },
      "execution_count": null,
      "outputs": [
        {
          "output_type": "stream",
          "name": "stdout",
          "text": [
            "16\n"
          ]
        }
      ]
    },
    {
      "cell_type": "code",
      "source": [
        "number=[1,2,3,4,5,6]\n",
        "even_numbers=list(filter(lambda x:x%2==0,number))\n",
        "print(even_numbers)"
      ],
      "metadata": {
        "colab": {
          "base_uri": "https://localhost:8080/"
        },
        "id": "Czqj1XtassVP",
        "outputId": "62af0b85-2dcf-4a3e-b4cc-fda9b98d3808"
      },
      "execution_count": null,
      "outputs": [
        {
          "output_type": "stream",
          "name": "stdout",
          "text": [
            "[2, 4, 6]\n"
          ]
        }
      ]
    },
    {
      "cell_type": "code",
      "source": [
        "data=[(1,'apple',(3,'banana'),(2,'cherry'))]\n",
        "Sorted_data=sorted(data,key=lambda x:x[1])\n",
        "print(Sorted_data)"
      ],
      "metadata": {
        "colab": {
          "base_uri": "https://localhost:8080/"
        },
        "id": "AuHH3w01tHfI",
        "outputId": "b6ad22c5-e029-4dcb-f038-3cfaff8a4e0e"
      },
      "execution_count": null,
      "outputs": [
        {
          "output_type": "stream",
          "name": "stdout",
          "text": [
            "[(1, 'apple', (3, 'banana'), (2, 'cherry'))]\n"
          ]
        }
      ]
    },
    {
      "cell_type": "code",
      "source": [
        "number=[1,2,3,4,5]\n",
        "doubled_numbers=list(map(lambda x:x*2,number))\n",
        "print(doubled_numbers)"
      ],
      "metadata": {
        "colab": {
          "base_uri": "https://localhost:8080/"
        },
        "id": "W1_uow-bu5JL",
        "outputId": "06bd2c3c-f354-428a-ed81-ef595041b330"
      },
      "execution_count": null,
      "outputs": [
        {
          "output_type": "stream",
          "name": "stdout",
          "text": [
            "[2, 4, 6, 8, 10]\n"
          ]
        }
      ]
    },
    {
      "cell_type": "code",
      "source": [
        "multiply=lambda x,y,z:x*y*z\n",
        "print(multiply(2,3,4))"
      ],
      "metadata": {
        "colab": {
          "base_uri": "https://localhost:8080/"
        },
        "id": "dIDSNx1stzGt",
        "outputId": "66f5c0a4-71e2-431c-b5e3-8cbde215ee14"
      },
      "execution_count": null,
      "outputs": [
        {
          "output_type": "stream",
          "name": "stdout",
          "text": [
            "24\n"
          ]
        }
      ]
    },
    {
      "cell_type": "code",
      "source": [
        "sub=lambda x,y:x-y\n",
        "print(sub(0,1))\n"
      ],
      "metadata": {
        "colab": {
          "base_uri": "https://localhost:8080/"
        },
        "id": "bZWe_Dusv3LB",
        "outputId": "52b8238d-f496-4ab3-80dd-a3cf9f4bc7be"
      },
      "execution_count": null,
      "outputs": [
        {
          "output_type": "stream",
          "name": "stdout",
          "text": [
            "-1\n"
          ]
        }
      ]
    },
    {
      "cell_type": "code",
      "source": [
        "number=[10,15,20,25,30]\n",
        "adds=list(filter(lambda x:x%2!=0,number))\n",
        "print(adds)"
      ],
      "metadata": {
        "colab": {
          "base_uri": "https://localhost:8080/"
        },
        "id": "9yMgmuDDw2wy",
        "outputId": "e8d18709-0d74-4248-b6bb-29b91477dfd2"
      },
      "execution_count": null,
      "outputs": [
        {
          "output_type": "stream",
          "name": "stdout",
          "text": [
            "[15, 25]\n"
          ]
        }
      ]
    },
    {
      "cell_type": "code",
      "source": [
        "student=[\n",
        "         {\"name\":\"alice\",\"score\":85},\n",
        "         {\"name\":\"bob\",\"score\":92},\n",
        "         {\"name\":\"charlie\",\"score\":78},\n",
        "  ]\n",
        "sorted_student=sorted(student,key=lambda student:student['score'])\n",
        "print(sorted_student)"
      ],
      "metadata": {
        "colab": {
          "base_uri": "https://localhost:8080/"
        },
        "id": "5UeHUesKz_8E",
        "outputId": "0df0aa13-817e-4b75-872c-620cca14f315"
      },
      "execution_count": null,
      "outputs": [
        {
          "output_type": "stream",
          "name": "stdout",
          "text": [
            "[{'name': 'charlie', 'score': 78}, {'name': 'alice', 'score': 85}, {'name': 'bob', 'score': 92}]\n"
          ]
        }
      ]
    },
    {
      "cell_type": "code",
      "source": [
        "from functools import reduce\n",
        "numbers=[1,2,3,4,5]\n",
        "product=reduce(lambda x,y:x*y,numbers)\n",
        "print(product)"
      ],
      "metadata": {
        "colab": {
          "base_uri": "https://localhost:8080/"
        },
        "id": "WYAJU-QN4H5X",
        "outputId": "1dbe43af-bc64-4d81-9be5-8531de573440"
      },
      "execution_count": null,
      "outputs": [
        {
          "output_type": "stream",
          "name": "stdout",
          "text": [
            "120\n"
          ]
        }
      ]
    },
    {
      "cell_type": "code",
      "source": [
        "check_even=lambda x:\"even\" if x%2==0 else \"odd\"\n",
        "print(check_even(4))\n",
        "print(check_even(7))"
      ],
      "metadata": {
        "id": "vMbiOydV5wo8",
        "colab": {
          "base_uri": "https://localhost:8080/"
        },
        "outputId": "aa314edf-b146-46bb-ee1c-6b38a26ee05a"
      },
      "execution_count": null,
      "outputs": [
        {
          "output_type": "stream",
          "name": "stdout",
          "text": [
            "even\n",
            "odd\n"
          ]
        }
      ]
    },
    {
      "cell_type": "code",
      "source": [
        "names=[\"john\",\"DOE\",\"ALICE\"]\n",
        "capitalized=list(map(lambda name:name.capitalize(),names))\n",
        "print(capitalized)"
      ],
      "metadata": {
        "colab": {
          "base_uri": "https://localhost:8080/"
        },
        "id": "7dL5dz3piTRE",
        "outputId": "022493f4-fd25-4bd6-c265-5b20675ffb3b"
      },
      "execution_count": null,
      "outputs": [
        {
          "output_type": "stream",
          "name": "stdout",
          "text": [
            "['John', 'Doe', 'Alice']\n"
          ]
        }
      ]
    },
    {
      "cell_type": "code",
      "source": [
        "emails=[\"alice@example.com\",\"bob@test.com\"]\n",
        "domains=list(map(lambda email:email.split(\"@\")[1],emails))\n",
        "print(domains)"
      ],
      "metadata": {
        "colab": {
          "base_uri": "https://localhost:8080/"
        },
        "id": "hw5ql2IUjFZy",
        "outputId": "1e5ddbb3-4748-48db-8b7f-2cc95203f737"
      },
      "execution_count": null,
      "outputs": [
        {
          "output_type": "stream",
          "name": "stdout",
          "text": [
            "['example.com', 'test.com']\n"
          ]
        }
      ]
    },
    {
      "cell_type": "code",
      "source": [
        "number=[2,4,6,8]\n",
        "all_even=all(map(lambda x:x%2==0,number))\n",
        "print(all_even)"
      ],
      "metadata": {
        "colab": {
          "base_uri": "https://localhost:8080/"
        },
        "id": "jRHYAbNGj5LZ",
        "outputId": "38e52ce2-1f4c-41db-c4ba-ac6b1971692d"
      },
      "execution_count": null,
      "outputs": [
        {
          "output_type": "stream",
          "name": "stdout",
          "text": [
            "True\n"
          ]
        }
      ]
    },
    {
      "cell_type": "code",
      "source": [
        "any_gt_5=any(map(lambda x:x>5,[1,2,3,4,5]))\n",
        "print(any_gt_5)"
      ],
      "metadata": {
        "colab": {
          "base_uri": "https://localhost:8080/"
        },
        "id": "D1tNhBXIkN-B",
        "outputId": "39fa7078-3e08-409d-e9de-99ced71472d4"
      },
      "execution_count": null,
      "outputs": [
        {
          "output_type": "stream",
          "name": "stdout",
          "text": [
            "False\n"
          ]
        }
      ]
    },
    {
      "cell_type": "code",
      "source": [
        "words=[\"apple\",\"banana\",\"cherry\",\"fig\"]\n",
        "sorted_words=sorted(words,key=lambda word:len(word))\n",
        "print(sorted_words)"
      ],
      "metadata": {
        "colab": {
          "base_uri": "https://localhost:8080/"
        },
        "id": "yNx_DMORkd3C",
        "outputId": "4f66433a-d070-4d75-c10d-12ea11678b9a"
      },
      "execution_count": null,
      "outputs": [
        {
          "output_type": "stream",
          "name": "stdout",
          "text": [
            "['fig', 'apple', 'banana', 'cherry']\n"
          ]
        }
      ]
    },
    {
      "cell_type": "code",
      "source": [
        "sentence=\"lambda functions are powerful\"\n",
        "reversed_words=list(map(lambda word:word[::-1],sentence.split()))\n",
        "print(\"\".join(reversed_words))"
      ],
      "metadata": {
        "colab": {
          "base_uri": "https://localhost:8080/"
        },
        "id": "NJ286KlclIt4",
        "outputId": "60343109-8587-4f67-d133-42658de2459c"
      },
      "execution_count": null,
      "outputs": [
        {
          "output_type": "stream",
          "name": "stdout",
          "text": [
            "adbmalsnoitcnuferalufrewop\n"
          ]
        }
      ]
    },
    {
      "cell_type": "code",
      "source": [
        "people=[\"Alice Johnson\",\"Bob smith\",\"charlie Brown\"]\n",
        "sorted_by_last=sorted(people,key=lambda name:name.split()[-1])\n",
        "print(sorted_by_last)"
      ],
      "metadata": {
        "colab": {
          "base_uri": "https://localhost:8080/"
        },
        "id": "dWQPy3kOmbq1",
        "outputId": "9eecaca5-a614-4ea9-dceb-c67430db42bf"
      },
      "execution_count": null,
      "outputs": [
        {
          "output_type": "stream",
          "name": "stdout",
          "text": [
            "['charlie Brown', 'Alice Johnson', 'Bob smith']\n"
          ]
        }
      ]
    },
    {
      "cell_type": "code",
      "source": [
        "operations={\n",
        "    'add':lambda x,y:x+y,\n",
        "    'sub':lambda x,y:x-y,\n",
        "    'mul':lambda x,y:x*y,\n",
        "    'div':lambda x,y:x/y if y!=0 else 'error'\n",
        "}\n",
        "print(operations['add'](10,5))\n",
        "print(operations['div'](10,0))"
      ],
      "metadata": {
        "colab": {
          "base_uri": "https://localhost:8080/"
        },
        "id": "BgV-bfasnYxU",
        "outputId": "79f4a827-e70f-4b3c-deb1-92eb71b4e070"
      },
      "execution_count": null,
      "outputs": [
        {
          "output_type": "stream",
          "name": "stdout",
          "text": [
            "15\n",
            "error\n"
          ]
        }
      ]
    },
    {
      "cell_type": "code",
      "source": [
        "number=list(range(1,21))\n",
        "filtered=list(filter(lambda x:x%2==0 and x%3==0,number))\n",
        "print(filtered)"
      ],
      "metadata": {
        "colab": {
          "base_uri": "https://localhost:8080/"
        },
        "id": "DIXjhQXLsS8c",
        "outputId": "e2cea7a7-e902-49c9-8314-bcffd2979205"
      },
      "execution_count": null,
      "outputs": [
        {
          "output_type": "stream",
          "name": "stdout",
          "text": [
            "[6, 12, 18]\n"
          ]
        }
      ]
    },
    {
      "cell_type": "code",
      "source": [
        "check_even_odd=lambda num:\"even\"if num%2==0 else\"odd\"\n",
        "print(check_even_odd(4))\n",
        "print(check_even_odd(7))\n"
      ],
      "metadata": {
        "colab": {
          "base_uri": "https://localhost:8080/"
        },
        "id": "rbOnYAImti8z",
        "outputId": "e49bd74d-a37d-4ad5-9743-7a9267ac96fd"
      },
      "execution_count": null,
      "outputs": [
        {
          "output_type": "stream",
          "name": "stdout",
          "text": [
            "even\n",
            "odd\n"
          ]
        }
      ]
    },
    {
      "cell_type": "code",
      "source": [
        "s1='Geeks for Geeks'\n",
        "s2=lambda func:func.upper()\n",
        "print(s2(s1))"
      ],
      "metadata": {
        "colab": {
          "base_uri": "https://localhost:8080/"
        },
        "id": "6LDlBir4uDvy",
        "outputId": "e2395d9d-9800-4a3b-a814-478864045602"
      },
      "execution_count": null,
      "outputs": [
        {
          "output_type": "stream",
          "name": "stdout",
          "text": [
            "GEEKS FOR GEEKS\n"
          ]
        }
      ]
    },
    {
      "cell_type": "code",
      "source": [
        "n=lambda x:\"Positive\"if x>0 else\"Negative\"if x<0 else\"Zero\"\n",
        "print(n(5))\n",
        "print(n(-3))\n",
        "print(n(0))"
      ],
      "metadata": {
        "colab": {
          "base_uri": "https://localhost:8080/"
        },
        "id": "_xtOrLLqu3gh",
        "outputId": "13a75a02-2f6f-4089-b485-56921d3d0075"
      },
      "execution_count": null,
      "outputs": [
        {
          "output_type": "stream",
          "name": "stdout",
          "text": [
            "Positive\n",
            "Negative\n",
            "Zero\n"
          ]
        }
      ]
    },
    {
      "cell_type": "code",
      "source": [
        "li=[lambda arg=x:arg*10 for x in range(1,5)]\n",
        "for i in li:\n",
        "  print(i())"
      ],
      "metadata": {
        "colab": {
          "base_uri": "https://localhost:8080/"
        },
        "id": "LlXjUVEnvnbp",
        "outputId": "4b85488f-87b3-45d2-c51c-ef5b03ee5789"
      },
      "execution_count": null,
      "outputs": [
        {
          "output_type": "stream",
          "name": "stdout",
          "text": [
            "10\n",
            "20\n",
            "30\n",
            "40\n"
          ]
        }
      ]
    },
    {
      "cell_type": "code",
      "source": [
        "check=lambda x:\"Even\"if x%2==0 else\"odd\"\n",
        "print(check(4))\n",
        "print(check(7))\n"
      ],
      "metadata": {
        "colab": {
          "base_uri": "https://localhost:8080/"
        },
        "id": "TN_qf_VtwCsY",
        "outputId": "99c09c35-c74b-4664-c2b1-708bb07be040"
      },
      "execution_count": null,
      "outputs": [
        {
          "output_type": "stream",
          "name": "stdout",
          "text": [
            "Even\n",
            "odd\n"
          ]
        }
      ]
    },
    {
      "cell_type": "code",
      "source": [
        "calc=lambda x,y:(x+y,x*y)\n",
        "res=calc(3,4)\n",
        "print(res)\n"
      ],
      "metadata": {
        "colab": {
          "base_uri": "https://localhost:8080/"
        },
        "id": "-bTOcWq_wmUm",
        "outputId": "790b8e42-1ae1-4d83-b0ed-f44d2c71f828"
      },
      "execution_count": null,
      "outputs": [
        {
          "output_type": "stream",
          "name": "stdout",
          "text": [
            "(7, 12)\n"
          ]
        }
      ]
    },
    {
      "cell_type": "code",
      "source": [
        "n=[1,2,3,4,5,6]\n",
        "even=filter(lambda x:x%2==0,n)\n",
        "print(list(even))"
      ],
      "metadata": {
        "colab": {
          "base_uri": "https://localhost:8080/"
        },
        "id": "TLunxGiiw8CG",
        "outputId": "2026c887-04d7-45f5-94a6-c63d1e735529"
      },
      "execution_count": null,
      "outputs": [
        {
          "output_type": "stream",
          "name": "stdout",
          "text": [
            "[2, 4, 6]\n"
          ]
        }
      ]
    },
    {
      "cell_type": "code",
      "source": [
        "a=[1,2,3,4]\n",
        "b=map(lambda x:x*2,a)\n",
        "print(list(b))"
      ],
      "metadata": {
        "colab": {
          "base_uri": "https://localhost:8080/"
        },
        "id": "OF55SvMtxNnm",
        "outputId": "b1e199f5-e17f-4937-8188-d786b248ae54"
      },
      "execution_count": null,
      "outputs": [
        {
          "output_type": "stream",
          "name": "stdout",
          "text": [
            "[2, 4, 6, 8]\n"
          ]
        }
      ]
    },
    {
      "cell_type": "code",
      "source": [
        "from functools import reduce\n",
        "a=[1,2,3,4]\n",
        "b=reduce(lambda x,y:x*y,a)\n",
        "print(b)"
      ],
      "metadata": {
        "colab": {
          "base_uri": "https://localhost:8080/"
        },
        "id": "M7pmtXtjxgBO",
        "outputId": "9e1cf16d-3951-4735-f68e-2fb9e26cc451"
      },
      "execution_count": null,
      "outputs": [
        {
          "output_type": "stream",
          "name": "stdout",
          "text": [
            "24\n"
          ]
        }
      ]
    },
    {
      "cell_type": "code",
      "source": [
        "import pandas as pd\n",
        "ds1 = pd.Series([2, 4, 8, 10])\n",
        "ds2 = pd.Series([1, 3, 7, 9])\n",
        "print(\"Multiply two Series:\")\n",
        "ds = ds1 * ds2\n",
        "print(ds)\n",
        "print(\"Divide Series1 by Series2:\")\n",
        "ds = ds1 / ds2\n",
        "print(ds)"
      ],
      "metadata": {
        "colab": {
          "base_uri": "https://localhost:8080/"
        },
        "id": "qzc7WcpLzSfC",
        "outputId": "a3008f2e-8e4a-4bb3-8245-610511c1636e"
      },
      "execution_count": null,
      "outputs": [
        {
          "output_type": "stream",
          "name": "stdout",
          "text": [
            "Multiply two Series:\n",
            "0     2\n",
            "1    12\n",
            "2    56\n",
            "3    90\n",
            "dtype: int64\n",
            "Divide Series1 by Series2:\n",
            "0    2.000000\n",
            "1    1.333333\n",
            "2    1.142857\n",
            "3    1.111111\n",
            "dtype: float64\n"
          ]
        }
      ]
    },
    {
      "cell_type": "code",
      "source": [
        "import pandas as pd\n",
        "d1 = {'a': 100, 'b': 200, 'c':300}\n",
        "print(\"Original dictionary:\")\n",
        "print(d1)\n",
        "new_series = pd.Series(d1)\n",
        "print(\"Converted series:\")\n",
        "print(new_series)"
      ],
      "metadata": {
        "colab": {
          "base_uri": "https://localhost:8080/"
        },
        "id": "D3ZJLxfkktxY",
        "outputId": "0ef21b93-ef2f-435a-e14c-49ba85709fbe"
      },
      "execution_count": null,
      "outputs": [
        {
          "output_type": "stream",
          "name": "stdout",
          "text": [
            "Original dictionary:\n",
            "{'a': 100, 'b': 200, 'c': 300}\n",
            "Converted series:\n",
            "a    100\n",
            "b    200\n",
            "c    300\n",
            "dtype: int64\n"
          ]
        }
      ]
    },
    {
      "cell_type": "code",
      "source": [
        "import pandas as pd\n",
        "s = pd.Series([400, 300.12,100, 200])\n",
        "print(\"Original Data Series:\")\n",
        "print(s)\n",
        "new_s = pd.Series(s).sort_values()\n",
        "print(new_s)"
      ],
      "metadata": {
        "colab": {
          "base_uri": "https://localhost:8080/"
        },
        "id": "akQUFOlOmrJd",
        "outputId": "b7e32578-9f0c-424e-8644-13a305a2ab94"
      },
      "execution_count": null,
      "outputs": [
        {
          "output_type": "stream",
          "name": "stdout",
          "text": [
            "Original Data Series:\n",
            "0    400.00\n",
            "1    300.12\n",
            "2    100.00\n",
            "3    200.00\n",
            "dtype: float64\n",
            "2    100.00\n",
            "3    200.00\n",
            "1    300.12\n",
            "0    400.00\n",
            "dtype: float64\n"
          ]
        }
      ]
    },
    {
      "cell_type": "code",
      "source": [
        "import pandas as pd\n",
        "s = pd.Series(data = [1,2,3], index = ['A', 'B', 'C'])\n",
        "print(\"Original Data Series:\")\n",
        "print(s)\n",
        "s = s.reindex(index = ['B','A','C'])\n",
        "print(\"Data Series after changing the order of index:\")\n",
        "print(s)"
      ],
      "metadata": {
        "colab": {
          "base_uri": "https://localhost:8080/"
        },
        "id": "lvlBxpxcnJM1",
        "outputId": "ead39951-89ca-48fb-f700-d475ba8cb203"
      },
      "execution_count": null,
      "outputs": [
        {
          "output_type": "stream",
          "name": "stdout",
          "text": [
            "Original Data Series:\n",
            "A    1\n",
            "B    2\n",
            "C    3\n",
            "dtype: int64\n",
            "Data Series after changing the order of index:\n",
            "B    2\n",
            "A    1\n",
            "C    3\n",
            "dtype: int64\n"
          ]
        }
      ]
    },
    {
      "cell_type": "code",
      "source": [
        "import pandas as pd\n",
        "import numpy as np\n",
        "sr1 = pd.Series([1, 2, 3])\n",
        "sr2 = pd.Series([2, 3, 6])\n",
        "print(\"Original Series:\")\n",
        "print(\"sr1:\")\n",
        "print(sr1)\n",
        "print(\"sr2:\")\n",
        "print(sr2)\n",
        "print(\"\\nItems of a given series not present in another given series:\")\n",
        "sr11 = pd.Series(np.union1d(sr1, sr2))\n",
        "sr22 = pd.Series(np.intersect1d(sr1, sr2))\n",
        "result = sr11[~sr11.isin(sr22)]\n",
        "print(result)"
      ],
      "metadata": {
        "colab": {
          "base_uri": "https://localhost:8080/"
        },
        "id": "LCr5bziEnilU",
        "outputId": "8a54fb34-c30d-411d-d0ca-f5f25afa13aa"
      },
      "execution_count": null,
      "outputs": [
        {
          "output_type": "stream",
          "name": "stdout",
          "text": [
            "Original Series:\n",
            "sr1:\n",
            "0    1\n",
            "1    2\n",
            "2    3\n",
            "dtype: int64\n",
            "sr2:\n",
            "0    2\n",
            "1    3\n",
            "2    6\n",
            "dtype: int64\n",
            "\n",
            "Items of a given series not present in another given series:\n",
            "0    1\n",
            "3    6\n",
            "dtype: int64\n"
          ]
        }
      ]
    },
    {
      "cell_type": "code",
      "source": [
        "import pandas as pd\n",
        "import numpy as np\n",
        "exam_data  = {'name': ['Manish', 'Dhiraj'],\n",
        "'score': [12.5, 9]}\n",
        "labels = ['NAME', 'SCORE']\n",
        "df = pd.DataFrame(exam_data , index=labels)\n",
        "print(df)"
      ],
      "metadata": {
        "colab": {
          "base_uri": "https://localhost:8080/"
        },
        "id": "c5_t1m6HnxLc",
        "outputId": "33e04e23-7936-4b87-b903-56667de7ec91"
      },
      "execution_count": null,
      "outputs": [
        {
          "output_type": "stream",
          "name": "stdout",
          "text": [
            "         name  score\n",
            "NAME   Manish   12.5\n",
            "SCORE  Dhiraj    9.0\n"
          ]
        }
      ]
    },
    {
      "cell_type": "code",
      "source": [
        "import pandas as pd\n",
        "import numpy as np\n",
        "exam_data  = {'name': ['Manish', 'Dhiraj','Man', 'Dhir'],\n",
        "        'score': [12.5, 91,2.5, 9]}\n",
        "df = pd.DataFrame(exam_data )\n",
        "print(\"First three rows of the data frame:\")\n",
        "print(df.iloc[:3])"
      ],
      "metadata": {
        "colab": {
          "base_uri": "https://localhost:8080/"
        },
        "id": "9h69QLNgoYsM",
        "outputId": "1e9e5f31-ed83-486c-ad4a-b8df15560278"
      },
      "execution_count": null,
      "outputs": [
        {
          "output_type": "stream",
          "name": "stdout",
          "text": [
            "First three rows of the data frame:\n",
            "     name  score\n",
            "0  Manish   12.5\n",
            "1  Dhiraj   91.0\n",
            "2     Man    2.5\n"
          ]
        }
      ]
    },
    {
      "cell_type": "code",
      "source": [
        "import pandas as pd\n",
        "import numpy as np\n",
        "exam_data  = {'name': ['Manish', 'Dhiraj','Man', 'Dhir'],\n",
        "        'score': [12.5, 91,2.5, 9]}\n",
        "df = pd.DataFrame(exam_data )\n",
        "total_rows=len(df.axes[0])\n",
        "total_cols=len(df.axes[1])\n",
        "print(\"Number of Rows: \"+str(total_rows))\n",
        "print(\"Number of Columns: \"+str(total_cols))"
      ],
      "metadata": {
        "colab": {
          "base_uri": "https://localhost:8080/"
        },
        "id": "DiP2gMyAovjD",
        "outputId": "328d8b25-42d7-49d9-a916-9750f054fa6b"
      },
      "execution_count": null,
      "outputs": [
        {
          "output_type": "stream",
          "name": "stdout",
          "text": [
            "Number of Rows: 4\n",
            "Number of Columns: 2\n"
          ]
        }
      ]
    },
    {
      "cell_type": "code",
      "source": [
        "import pandas as pd\n",
        "import numpy as np\n",
        "exam_data  = {'name': ['Manish', 'Dhiraj','Man', 'Dhir'],\n",
        "        'score': [12.5, 91,20.5, 19]}\n",
        "df = pd.DataFrame(exam_data )\n",
        "print(\"Rows where score between 15 and 20 (inclusive):\")\n",
        "print(df[df['score'].between(15, 20)])"
      ],
      "metadata": {
        "colab": {
          "base_uri": "https://localhost:8080/"
        },
        "id": "v8u3zzbyo7vS",
        "outputId": "f8d57942-8e02-4110-9bc4-844732f6e773"
      },
      "execution_count": null,
      "outputs": [
        {
          "output_type": "stream",
          "name": "stdout",
          "text": [
            "Rows where score between 15 and 20 (inclusive):\n",
            "   name  score\n",
            "3  Dhir   19.0\n"
          ]
        }
      ]
    },
    {
      "cell_type": "code",
      "source": [
        "import pandas as pd\n",
        "import numpy as np\n",
        "exam_data  = {'name': ['Manish', 'Dhiraj','Man', 'Dhir'],\n",
        "        'score': [12.5, 91,20.5, 19]}\n",
        "df = pd.DataFrame(exam_data )\n",
        "result_sort=df.sort_values(by=['name', 'score'], ascending=[True, True])\n",
        "print(\"Sort the data frame first by ‘name’ in descending order, then by ‘score’ in ascending order:\")\n",
        "print(result_sort)"
      ],
      "metadata": {
        "colab": {
          "base_uri": "https://localhost:8080/"
        },
        "id": "HcVYYzIoth8-",
        "outputId": "59efc06d-4db8-42bb-e300-59fd9a029ea6"
      },
      "execution_count": null,
      "outputs": [
        {
          "output_type": "stream",
          "name": "stdout",
          "text": [
            "Sort the data frame first by ‘name’ in descending order, then by ‘score’ in ascending order:\n",
            "     name  score\n",
            "3    Dhir   19.0\n",
            "1  Dhiraj   91.0\n",
            "2     Man   20.5\n",
            "0  Manish   12.5\n"
          ]
        }
      ]
    },
    {
      "cell_type": "code",
      "source": [
        "import pandas as pd\n",
        "import numpy as np\n",
        "exam_data ={'name':['Manish','Dhiraj','Man','Dhir'],'score':[12.5,91,20.5,9]}\n",
        "df=pd.DataFrame(exam_data)\n",
        "df['name']=df['name'].replace('Manish','Anish')\n",
        "print(df)"
      ],
      "metadata": {
        "colab": {
          "base_uri": "https://localhost:8080/"
        },
        "id": "W4lJD8wyuWTt",
        "outputId": "58db4c4b-9ef1-4c48-8032-94964247a983"
      },
      "execution_count": null,
      "outputs": [
        {
          "output_type": "stream",
          "name": "stdout",
          "text": [
            "     name  score\n",
            "0   Anish   12.5\n",
            "1  Dhiraj   91.0\n",
            "2     Man   20.5\n",
            "3    Dhir    9.0\n"
          ]
        }
      ]
    },
    {
      "cell_type": "code",
      "source": [
        "import pandas as pd\n",
        "import numpy as np\n",
        "exam_data={'name':['Manish','Dhiraj','Man','Dhir'],'score':[12.5,91,20.5,19]}\n",
        "df=pd.DataFrame(exam_data)\n",
        "medium=['english','hindi','hindi','english',]\n",
        "df['medium']=medium\n",
        "print(\"\\n New DataFrame after inserting the 'medium' column\")\n",
        "print(df)"
      ],
      "metadata": {
        "colab": {
          "base_uri": "https://localhost:8080/"
        },
        "id": "OH0-pa3yvvVj",
        "outputId": "043a39f6-c4de-4c42-9a2e-5c613fd162bd"
      },
      "execution_count": null,
      "outputs": [
        {
          "output_type": "stream",
          "name": "stdout",
          "text": [
            "\n",
            " New DataFrame after inserting the 'medium' column\n",
            "     name  score   medium\n",
            "0  Manish   12.5  english\n",
            "1  Dhiraj   91.0    hindi\n",
            "2     Man   20.5    hindi\n",
            "3    Dhir   19.0  english\n"
          ]
        }
      ]
    },
    {
      "cell_type": "code",
      "source": [
        "import numpy as np\n",
        "exam_data  = {'name': ['Manish', 'Dhiraj','Man', 'Dhir'], 'score': [12.5,91.0,0.5, 19]}\n",
        "df = pd.DataFrame(exam_data )\n",
        "df = df.rename(columns={'name': 'NAME', 'score': 'SCORE'})\n",
        "print(\"New DataFrame after renaming columns:\")\n",
        "print(df)"
      ],
      "metadata": {
        "colab": {
          "base_uri": "https://localhost:8080/"
        },
        "id": "jtTcqkXiys3_",
        "outputId": "453b1c8e-f9c9-4617-907f-057a5b19116c"
      },
      "execution_count": null,
      "outputs": [
        {
          "output_type": "stream",
          "name": "stdout",
          "text": [
            "New DataFrame after renaming columns:\n",
            "     NAME  SCORE\n",
            "0  Manish   12.5\n",
            "1  Dhiraj   91.0\n",
            "2     Man    0.5\n",
            "3    Dhir   19.0\n"
          ]
        }
      ]
    },
    {
      "cell_type": "code",
      "source": [
        "import pandas as pd\n",
        "import numpy as np\n",
        "exam_data  = {'name': ['Manish', 'Dhiraj','Man', 'Dhir'],\n",
        "'score': [12.5, 91,20.5, 19]}\n",
        "df = pd.DataFrame(exam_data )\n",
        "df = df[df.score >= 20]\n",
        "print(\"New DataFrame\")\n",
        "print(df)"
      ],
      "metadata": {
        "id": "Y-Dq3EbM0b8h",
        "colab": {
          "base_uri": "https://localhost:8080/"
        },
        "outputId": "8c28abf4-a8a8-4e7a-f4a3-3e00ec521a63"
      },
      "execution_count": null,
      "outputs": [
        {
          "output_type": "stream",
          "name": "stdout",
          "text": [
            "New DataFrame\n",
            "     name  score\n",
            "1  Dhiraj   91.0\n",
            "2     Man   20.5\n"
          ]
        }
      ]
    },
    {
      "cell_type": "code",
      "source": [
        "import pandas as pd\n",
        "s1=pd.Series(['100','200','400'])\n",
        "s2=pd.Series(['10','20','40'])\n",
        "print(\"Data Series:\")\n",
        "print(s1)\n",
        "print(s2)\n",
        "df=pd.concat([s1,s2],axis=1)\n",
        "print(\"New DataFrame combining two series:\")\n",
        "print(df)\n"
      ],
      "metadata": {
        "colab": {
          "base_uri": "https://localhost:8080/"
        },
        "id": "XKrKdaza29LU",
        "outputId": "a0ba9b2e-c146-43be-d013-6792256552cd"
      },
      "execution_count": null,
      "outputs": [
        {
          "output_type": "stream",
          "name": "stdout",
          "text": [
            "Data Series:\n",
            "0    100\n",
            "1    200\n",
            "2    400\n",
            "dtype: object\n",
            "0    10\n",
            "1    20\n",
            "2    40\n",
            "dtype: object\n",
            "New DataFrame combining two series:\n",
            "     0   1\n",
            "0  100  10\n",
            "1  200  20\n",
            "2  400  40\n"
          ]
        }
      ]
    },
    {
      "cell_type": "code",
      "source": [
        "import pandas as pd\n",
        "import numpy as np\n",
        "s1 = pd.Series(['100', '200', '400'])\n",
        "s2 = pd.Series(['10', '20', '40'])\n",
        "df = pd.concat([s1, s2], axis=1)\n",
        "print(\"Value of Row4\")\n",
        "print(df.iloc[2])"
      ],
      "metadata": {
        "colab": {
          "base_uri": "https://localhost:8080/"
        },
        "id": "XFDdBqKN5nRY",
        "outputId": "2ac40598-23fb-4ec2-c007-60d78c410339"
      },
      "execution_count": null,
      "outputs": [
        {
          "output_type": "stream",
          "name": "stdout",
          "text": [
            "Value of Row4\n",
            "0    400\n",
            "1     40\n",
            "Name: 2, dtype: object\n"
          ]
        }
      ]
    },
    {
      "cell_type": "code",
      "source": [
        "import pandas as pd\n",
        "import numpy as np\n",
        "s1 = pd.Series(['100', '200', '400'])\n",
        "s2 = pd.Series(['10', '20', '40'])\n",
        "df = pd.concat([s1, s2], axis=1)\n",
        "new_col = [1, 2, 3]\n",
        "idx = 0\n",
        "df.insert(loc=idx, column='1', value=new_col)\n",
        "print(\"\\nNew DataFrame\")\n",
        "print(df)"
      ],
      "metadata": {
        "colab": {
          "base_uri": "https://localhost:8080/"
        },
        "id": "saJRAk_A7PTv",
        "outputId": "ff3ad3f1-4ae3-4269-f5bd-b2007479029f"
      },
      "execution_count": null,
      "outputs": [
        {
          "output_type": "stream",
          "name": "stdout",
          "text": [
            "\n",
            "New DataFrame\n",
            "   1    0   1\n",
            "0  1  100  10\n",
            "1  2  200  20\n",
            "2  3  400  40\n"
          ]
        }
      ]
    },
    {
      "cell_type": "code",
      "source": [
        "import pandas as pd\n",
        "data={\"Name\":['Rupa','Sita','geta'],\n",
        "      'age':[25,30,35],\n",
        "      'city':['Bagalkot','solapur','gulbarga']\n",
        "      }\n",
        "df=pd.DataFrame(data)\n",
        "print(df)"
      ],
      "metadata": {
        "colab": {
          "base_uri": "https://localhost:8080/"
        },
        "id": "K0hJ_B3A6vVq",
        "outputId": "17c76fc7-4cf0-4c56-ee4f-06f96f7f42f0"
      },
      "execution_count": null,
      "outputs": [
        {
          "output_type": "stream",
          "name": "stdout",
          "text": [
            "   Name  age      city\n",
            "0  Rupa   25  Bagalkot\n",
            "1  Sita   30   solapur\n",
            "2  geta   35  gulbarga\n"
          ]
        }
      ]
    },
    {
      "cell_type": "code",
      "source": [
        "import pandas as pd\n",
        "data={'Name':['Rupa','sita','geta'],\n",
        "      'Age':[25,30,35],\n",
        "      'city':['Bagalkot','Solapur','Gulbarga']\n",
        "      }\n",
        "df=pd.DataFrame(data)\n",
        "result_sort=df.sort_values(by=['Age'],ascending=[True])\n",
        "print(\"It sorts the DataFrame of age in ascending order\")\n",
        "print(result_sort)"
      ],
      "metadata": {
        "colab": {
          "base_uri": "https://localhost:8080/"
        },
        "id": "anxGks2b8XFh",
        "outputId": "07c31f37-216c-4f05-ce6d-0a489310c562"
      },
      "execution_count": null,
      "outputs": [
        {
          "output_type": "stream",
          "name": "stdout",
          "text": [
            "It sorts the DataFrame of age in ascending order\n",
            "   Name  Age      city\n",
            "0  Rupa   25  Bagalkot\n",
            "1  sita   30   Solapur\n",
            "2  geta   35  Gulbarga\n"
          ]
        }
      ]
    },
    {
      "cell_type": "code",
      "source": [
        "import pandas as pd\n",
        "data={'Name':['Rupa','sita','geta'],\n",
        "      'Age':[25,30,35],\n",
        "      'city':['Bagalkot','Solapur','Gulbarga']\n",
        "      }\n",
        "df=pd.DataFrame(data)\n",
        "salary=[50000,60000,70000]\n",
        "df['Salary']=salary\n",
        "print(\"after adding a new column of salary colum\")\n",
        "print(df)"
      ],
      "metadata": {
        "colab": {
          "base_uri": "https://localhost:8080/"
        },
        "id": "1LOrL_VI-sz2",
        "outputId": "4b9cc475-764b-4a73-e413-92bd7d6c9465"
      },
      "execution_count": null,
      "outputs": [
        {
          "output_type": "stream",
          "name": "stdout",
          "text": [
            "after adding a new column of salary colum\n",
            "   Name  Age      city  Salary\n",
            "0  Rupa   25  Bagalkot   50000\n",
            "1  sita   30   Solapur   60000\n",
            "2  geta   35  Gulbarga   70000\n"
          ]
        }
      ]
    },
    {
      "cell_type": "code",
      "source": [
        "import pandas as pd\n",
        "data={'Name':['Rupa','sita','geta'],\n",
        "      'Age':[25,30,35],\n",
        "      'city':['Bagalkot','Solapur','Gulbarga']\n",
        "      }\n",
        "df=pd.DataFrame(data)\n",
        "df_filtered=df[df['Age']>30]\n",
        "print(df_filtered)"
      ],
      "metadata": {
        "colab": {
          "base_uri": "https://localhost:8080/"
        },
        "id": "4OV8-R7vASYU",
        "outputId": "f94fcc55-fb9d-4940-ab88-85fe50e4b753"
      },
      "execution_count": null,
      "outputs": [
        {
          "output_type": "stream",
          "name": "stdout",
          "text": [
            "   Name  Age      city\n",
            "2  geta   35  Gulbarga\n"
          ]
        }
      ]
    },
    {
      "cell_type": "code",
      "source": [
        "import pandas as pd\n",
        "data={'Name':['Rupa','Sita','Geta'],\n",
        "      'age':[25,30,35],\n",
        "      'city':['Bagalkot','solapur','Gulbarga']\n",
        "      }\n",
        "df=pd.DataFrame(data)\n",
        "df.loc[df['Name']=='Sita','city']=\"Bagalkot\"\n",
        "print(df)"
      ],
      "metadata": {
        "colab": {
          "base_uri": "https://localhost:8080/"
        },
        "id": "wffE7EH5CpRJ",
        "outputId": "36d94ba1-c862-43b5-e49d-a407e88b0aa3"
      },
      "execution_count": null,
      "outputs": [
        {
          "output_type": "stream",
          "name": "stdout",
          "text": [
            "   Name  age      city\n",
            "0  Rupa   25  Bagalkot\n",
            "1  Sita   30  Bagalkot\n",
            "2  Geta   35  Gulbarga\n"
          ]
        }
      ]
    },
    {
      "cell_type": "code",
      "source": [
        "import pandas as pd\n",
        "\n",
        "data = {'Name': ['Ravi', 'Ram', 'Raj'],\n",
        "        'Age': [25, 30, 35],\n",
        "        'city': ['Bagalkot', 'Bagalkot', 'Gulbarge']}\n",
        "df = pd.DataFrame(data)\n",
        "df = df.drop(columns='city')\n",
        "print(df)"
      ],
      "metadata": {
        "colab": {
          "base_uri": "https://localhost:8080/"
        },
        "id": "0WkbZ0n-HRm7",
        "outputId": "98aef15f-4ac1-4f0e-9063-781e0774f430"
      },
      "execution_count": null,
      "outputs": [
        {
          "output_type": "stream",
          "name": "stdout",
          "text": [
            "   Name  Age\n",
            "0  Ravi   25\n",
            "1   Ram   30\n",
            "2   Raj   35\n"
          ]
        }
      ]
    },
    {
      "cell_type": "code",
      "source": [
        "import pandas as pd\n",
        "data = {'Name': ['Rupa', 'Sita', 'Geta'],\n",
        "        'Age': [25, 30, 35]}\n",
        "df = pd.DataFrame(data)\n",
        "age_mean = df['Age'].mean()\n",
        "print(age_mean)"
      ],
      "metadata": {
        "colab": {
          "base_uri": "https://localhost:8080/"
        },
        "id": "p_XIeYemJJ_j",
        "outputId": "d17d2fbe-30ac-4568-c45d-cd2e2aea554b"
      },
      "execution_count": null,
      "outputs": [
        {
          "output_type": "stream",
          "name": "stdout",
          "text": [
            "30.0\n"
          ]
        }
      ]
    },
    {
      "cell_type": "code",
      "source": [
        "import pandas as pd\n",
        "data={'Name':['Rupa','Sita','Geta'],\n",
        "      'Age':[25,30,35],\n",
        "      'city':['Bagalkot','Solapur','Gulbarga']\n",
        "      }\n",
        "\n",
        "df=pd.DataFrame(data)\n",
        "df='Bagalkot'in df['city'].values\n",
        "print(df)"
      ],
      "metadata": {
        "colab": {
          "base_uri": "https://localhost:8080/"
        },
        "id": "TCFK37Z7J8Mk",
        "outputId": "d5e28edd-598a-4582-93d7-0b3e9fa1e798"
      },
      "execution_count": null,
      "outputs": [
        {
          "output_type": "stream",
          "name": "stdout",
          "text": [
            "True\n"
          ]
        }
      ]
    },
    {
      "cell_type": "code",
      "source": [
        "import pandas as pd\n",
        "data={'Name':['Rupa','Sita','Geta'],\n",
        "      'Age':[25,30,35],\n",
        "      'city':['Bagalkot','Solapur','Gulburga'],\n",
        "      }\n",
        "df=pd.DataFrame(data)\n",
        "df[df['Name']=='Sita']\n",
        "print(df)"
      ],
      "metadata": {
        "colab": {
          "base_uri": "https://localhost:8080/"
        },
        "id": "8tN7qCxZL6te",
        "outputId": "7e53e10f-720d-4c7a-8a2c-e48c9815bb3d"
      },
      "execution_count": null,
      "outputs": [
        {
          "output_type": "stream",
          "name": "stdout",
          "text": [
            "   Name  Age      city\n",
            "0  Rupa   25  Bagalkot\n",
            "1  Sita   30   Solapur\n",
            "2  Geta   35  Gulburga\n"
          ]
        }
      ]
    },
    {
      "cell_type": "code",
      "source": [
        "import pandas as pd\n",
        "data={'name':['Rupa','Sita','Geta'],\n",
        "      'Age':[25,30,35],\n",
        "      'city':['Bagalkot','Solapur','Gulburaga']\n",
        "      }\n",
        "df = pd.DataFrame(data)\n",
        "city_counts=df['city'].value_counts()\n",
        "print(city_counts)"
      ],
      "metadata": {
        "colab": {
          "base_uri": "https://localhost:8080/"
        },
        "id": "kCuB60QIyyZm",
        "outputId": "06d81673-077f-4e35-f40c-25b8c3ff785b"
      },
      "execution_count": null,
      "outputs": [
        {
          "output_type": "stream",
          "name": "stdout",
          "text": [
            "city\n",
            "Bagalkot     1\n",
            "Solapur      1\n",
            "Gulburaga    1\n",
            "Name: count, dtype: int64\n"
          ]
        }
      ]
    },
    {
      "cell_type": "code",
      "source": [
        "import pandas as pd\n",
        "data={'Name':['Rupa','Sita','Geta'],\n",
        "      'Age':[25,30,35],\n",
        "      'city':['Bagalkot','Solapur','Gulburaga',],\n",
        "      'Salary':[50000,60000,70000]\n",
        "      }\n",
        "df = pd.DataFrame(data)\n",
        "high_salary = df[df['Salary'] == df['Salary'].max()]\n",
        "print(high_salary)"
      ],
      "metadata": {
        "colab": {
          "base_uri": "https://localhost:8080/"
        },
        "id": "r0JoDFvu1SZN",
        "outputId": "bc77ad70-2c3d-4354-bb2d-23ad05add9f5"
      },
      "execution_count": null,
      "outputs": [
        {
          "output_type": "stream",
          "name": "stdout",
          "text": [
            "   Name  Age       city  Salary\n",
            "2  Geta   35  Gulburaga   70000\n"
          ]
        }
      ]
    },
    {
      "cell_type": "code",
      "source": [
        "import pandas as pd\n",
        "s1=pd.Series([5,10,15,20,25])\n",
        "print(\"Series s1:\")\n",
        "print(s1)"
      ],
      "metadata": {
        "colab": {
          "base_uri": "https://localhost:8080/"
        },
        "id": "plqXEPKX3ysZ",
        "outputId": "6ab17435-241b-446e-9f13-f83281f1d292"
      },
      "execution_count": null,
      "outputs": [
        {
          "output_type": "stream",
          "name": "stdout",
          "text": [
            "Series s1:\n",
            "0     5\n",
            "1    10\n",
            "2    15\n",
            "3    20\n",
            "4    25\n",
            "dtype: int64\n"
          ]
        }
      ]
    },
    {
      "cell_type": "code",
      "source": [
        "import pandas as pd # Import pandas here as well for clarity\n",
        "s1=pd.Series([5,10,15,20,25], index=['a','b','c','d','e'])\n",
        "print(\"\\n2.Series with custom index:\")\n",
        "print(s1)"
      ],
      "metadata": {
        "colab": {
          "base_uri": "https://localhost:8080/"
        },
        "id": "oUGR5FCX4vAf",
        "outputId": "21176520-5692-4b98-c776-e499992f1966"
      },
      "execution_count": null,
      "outputs": [
        {
          "output_type": "stream",
          "name": "stdout",
          "text": [
            "\n",
            "2.Series with custom index:\n",
            "a     5\n",
            "b    10\n",
            "c    15\n",
            "d    20\n",
            "e    25\n",
            "dtype: int64\n"
          ]
        }
      ]
    },
    {
      "cell_type": "code",
      "source": [
        "import numpy as np\n",
        "arr=np.array([1,2,3,4])\n",
        "print(arr,sum(arr))"
      ],
      "metadata": {
        "colab": {
          "base_uri": "https://localhost:8080/"
        },
        "id": "7qic_Il8uJ0q",
        "outputId": "bccfe0a8-4c9c-4e61-acb6-01619bdce0b3"
      },
      "execution_count": null,
      "outputs": [
        {
          "output_type": "stream",
          "name": "stdout",
          "text": [
            "[1 2 3 4] 10\n"
          ]
        }
      ]
    },
    {
      "cell_type": "code",
      "source": [
        "mean=np.mean(arr)\n",
        "print(arr.mean())"
      ],
      "metadata": {
        "colab": {
          "base_uri": "https://localhost:8080/"
        },
        "id": "mDat_bECvS0z",
        "outputId": "5b7e6f14-8c61-4a4b-97fd-91c02c68b653"
      },
      "execution_count": null,
      "outputs": [
        {
          "output_type": "stream",
          "name": "stdout",
          "text": [
            "2.0\n"
          ]
        }
      ]
    },
    {
      "cell_type": "code",
      "source": [
        "print(arr.min())"
      ],
      "metadata": {
        "colab": {
          "base_uri": "https://localhost:8080/"
        },
        "id": "vyPer8lkvjBQ",
        "outputId": "be27b662-a134-44df-a00b-1ecb98ab8d36"
      },
      "execution_count": null,
      "outputs": [
        {
          "output_type": "stream",
          "name": "stdout",
          "text": [
            "1\n"
          ]
        }
      ]
    },
    {
      "cell_type": "code",
      "source": [
        "print(arr.max())"
      ],
      "metadata": {
        "colab": {
          "base_uri": "https://localhost:8080/"
        },
        "id": "wfyd28Byv3dA",
        "outputId": "a133a1d7-2a06-4863-c96a-d988dfac6979"
      },
      "execution_count": null,
      "outputs": [
        {
          "output_type": "stream",
          "name": "stdout",
          "text": [
            "3\n"
          ]
        }
      ]
    },
    {
      "cell_type": "code",
      "source": [
        "import numpy as np\n",
        "import random\n",
        "array=np.random.randint(16,size=(4,4))\n",
        "print(\"Input array:\\n\",array)\n",
        "print(\"largest number in x axis:\",np.max(array,axis=1))\n",
        "print(\"largest number in y axis:\",np.max(array,axis=0))"
      ],
      "metadata": {
        "colab": {
          "base_uri": "https://localhost:8080/"
        },
        "id": "CVCkUOSqwBFn",
        "outputId": "52353aa4-bd9f-403b-f5f2-b09e63befc35"
      },
      "execution_count": null,
      "outputs": [
        {
          "output_type": "stream",
          "name": "stdout",
          "text": [
            "Input array:\n",
            " [[14  2  2  6]\n",
            " [11 12  4 12]\n",
            " [ 0 11  9 11]\n",
            " [ 4  3 11 14]]\n",
            "largest number in x axis: [14 12 11 14]\n",
            "largest number in y axis: [14 12 11 14]\n"
          ]
        }
      ]
    },
    {
      "cell_type": "code",
      "source": [
        "import numpy as np\n",
        "array=np.random.randint(16,size=(4,4))\n",
        "print(\"Input Array:\\n\",array)\n",
        "print(\"Smallest number in x axis:\",np.min(array,axis=1))\n",
        "print(\"Smallest number in y axis:\",np.min(array,axis=0))\n",
        "print(arr.std())"
      ],
      "metadata": {
        "colab": {
          "base_uri": "https://localhost:8080/"
        },
        "id": "mCo4EC1dyD1W",
        "outputId": "517df679-fbab-48e8-8149-37cf0f787d10"
      },
      "execution_count": null,
      "outputs": [
        {
          "output_type": "stream",
          "name": "stdout",
          "text": [
            "Input Array:\n",
            " [[ 5 11  6  1]\n",
            " [10  3  6 14]\n",
            " [ 6  4  1  3]\n",
            " [ 0  3 10  8]]\n",
            "Smallest number in x axis: [1 3 1 0]\n",
            "Smallest number in y axis: [0 3 1 1]\n",
            "0.816496580927726\n"
          ]
        }
      ]
    },
    {
      "cell_type": "code",
      "source": [
        "arr=np.array([1,2,3])\n",
        "print(arr+2)"
      ],
      "metadata": {
        "colab": {
          "base_uri": "https://localhost:8080/"
        },
        "id": "4hwT7rbj0qRG",
        "outputId": "43132da0-ba7f-45e2-b73d-683ede6af4a4"
      },
      "execution_count": null,
      "outputs": [
        {
          "output_type": "stream",
          "name": "stdout",
          "text": [
            "[3 4 5]\n"
          ]
        }
      ]
    },
    {
      "cell_type": "code",
      "source": [
        "print(np.sin(arr))"
      ],
      "metadata": {
        "colab": {
          "base_uri": "https://localhost:8080/"
        },
        "id": "WtmXRrQd09aD",
        "outputId": "56245d40-ef9a-4aa6-d6ba-4018d7731797"
      },
      "execution_count": null,
      "outputs": [
        {
          "output_type": "stream",
          "name": "stdout",
          "text": [
            "[0.84147098 0.90929743 0.14112001]\n"
          ]
        }
      ]
    },
    {
      "cell_type": "code",
      "source": [
        "arr=np.array([1,2,3])\n",
        "arr2=np.array([1,2,3])\n",
        "print(arr+arr2)"
      ],
      "metadata": {
        "colab": {
          "base_uri": "https://localhost:8080/"
        },
        "id": "Youp_9xw1Piy",
        "outputId": "22ba9bde-a7e0-414a-a558-d9955090c14b"
      },
      "execution_count": null,
      "outputs": [
        {
          "output_type": "stream",
          "name": "stdout",
          "text": [
            "[2 4 6]\n"
          ]
        }
      ]
    },
    {
      "cell_type": "code",
      "source": [
        "squared=list(map(lambda x:x**2,arr))\n",
        "print(\"squared using map:\",squared)\n"
      ],
      "metadata": {
        "colab": {
          "base_uri": "https://localhost:8080/"
        },
        "id": "eBT1kiMY2gcg",
        "outputId": "650058c9-87f2-4fe7-bc9f-16e4c910bfc8"
      },
      "execution_count": null,
      "outputs": [
        {
          "output_type": "stream",
          "name": "stdout",
          "text": [
            "squared using map: [np.int64(1), np.int64(4), np.int64(9), np.int64(16), np.int64(25), np.int64(36)]\n"
          ]
        }
      ]
    },
    {
      "cell_type": "code",
      "source": [
        "def square(number):\n",
        "  return number*number\n",
        "name=[1,2,3,4]\n",
        "squared_numbers=list(map(square,name))\n",
        "print(squared_numbers)"
      ],
      "metadata": {
        "colab": {
          "base_uri": "https://localhost:8080/"
        },
        "id": "syAvKaEM4WDv",
        "outputId": "b3be0906-7771-412f-e290-b4dd43b2d55b"
      },
      "execution_count": null,
      "outputs": [
        {
          "output_type": "stream",
          "name": "stdout",
          "text": [
            "[1, 4, 9, 16]\n"
          ]
        }
      ]
    },
    {
      "cell_type": "code",
      "source": [
        "nums1= [1,2,3,4,5,6]\n",
        "squareOfnums1 = list(map(lambda n:n*n,nums1))\n",
        "print(squareOfnums1)\n"
      ],
      "metadata": {
        "colab": {
          "base_uri": "https://localhost:8080/"
        },
        "id": "ONMaU1eU5wBN",
        "outputId": "a6b41d79-a9c1-49a8-fa22-05b63a331f8b"
      },
      "execution_count": null,
      "outputs": [
        {
          "output_type": "stream",
          "name": "stdout",
          "text": [
            "[1, 4, 9, 16, 25, 36]\n"
          ]
        }
      ]
    },
    {
      "cell_type": "code",
      "source": [
        "def is_even(n):\n",
        "  if n%2==0:\n",
        "    return True\n",
        "  else:\n",
        "    return False\n",
        "nums=[1,2,3,4]\n",
        "even = list(filter(is_even, nums))\n",
        "print(even)"
      ],
      "metadata": {
        "colab": {
          "base_uri": "https://localhost:8080/"
        },
        "id": "Do84sSRr-tWX",
        "outputId": "8713b60a-e978-42cb-a537-0f3803c0d004"
      },
      "execution_count": null,
      "outputs": [
        {
          "output_type": "stream",
          "name": "stdout",
          "text": [
            "[2, 4]\n"
          ]
        }
      ]
    },
    {
      "cell_type": "code",
      "source": [
        "even=list(filter(lambda x:x%2==0,arr))\n",
        "print(\"even number:\",even)"
      ],
      "metadata": {
        "id": "7ipYMhlTA_aM",
        "colab": {
          "base_uri": "https://localhost:8080/"
        },
        "outputId": "03471c80-a75b-4032-89f1-5b0a5025b2de"
      },
      "execution_count": null,
      "outputs": [
        {
          "output_type": "stream",
          "name": "stdout",
          "text": [
            "even number: [np.int64(2), np.int64(4), np.int64(6)]\n"
          ]
        }
      ]
    },
    {
      "cell_type": "code",
      "source": [
        "from functools import reduce\n",
        "\n",
        "def sum_all(a, b):\n",
        "    return a + b\n",
        "\n",
        "nums = [1, 2, 3, 4]\n",
        "sum_result = reduce(sum_all, nums)\n",
        "print(sum_result)"
      ],
      "metadata": {
        "colab": {
          "base_uri": "https://localhost:8080/"
        },
        "id": "R0PyxhACDoZM",
        "outputId": "23d4127c-b5a4-4211-de9c-f719e41364b8"
      },
      "execution_count": null,
      "outputs": [
        {
          "output_type": "stream",
          "name": "stdout",
          "text": [
            "10\n"
          ]
        }
      ]
    },
    {
      "cell_type": "code",
      "source": [
        "total=reduce(lambda x,y:x+y,arr)\n",
        "print(\"sum using reduce:\",total)"
      ],
      "metadata": {
        "colab": {
          "base_uri": "https://localhost:8080/"
        },
        "id": "pM0JNC2uDwET",
        "outputId": "f5fbb148-b703-48dc-928e-66a9047993bd"
      },
      "execution_count": null,
      "outputs": [
        {
          "output_type": "stream",
          "name": "stdout",
          "text": [
            "sum using reduce: 21\n"
          ]
        }
      ]
    },
    {
      "cell_type": "code",
      "source": [
        "import pandas as pd\n",
        "\n",
        "data = pd.Series([10, 20, 30, 40], index=['a', 'b', 'c', 'd'])\n",
        "print(data)"
      ],
      "metadata": {
        "colab": {
          "base_uri": "https://localhost:8080/"
        },
        "id": "8QmofOXhGj4R",
        "outputId": "1e73d8f0-5f43-4107-f01a-0278bec89ffd"
      },
      "execution_count": null,
      "outputs": [
        {
          "output_type": "stream",
          "name": "stdout",
          "text": [
            "a    10\n",
            "b    20\n",
            "c    30\n",
            "d    40\n",
            "dtype: int64\n"
          ]
        }
      ]
    },
    {
      "cell_type": "code",
      "source": [
        "import pandas as pd\n",
        "\n",
        "data = {\n",
        "    'Name': ['Alice', 'Bob', 'Charlie'],\n",
        "    'Age': [25, 30, 35],\n",
        "    'City': ['Delhi', 'Mumbai', 'Bangalore']\n",
        "}\n",
        "\n",
        "df = pd.DataFrame(data)\n",
        "print(df)"
      ],
      "metadata": {
        "colab": {
          "base_uri": "https://localhost:8080/"
        },
        "id": "m6vLNntVICgP",
        "outputId": "54f4c168-2c44-4e16-dc7f-a0b3f2bf2da2"
      },
      "execution_count": null,
      "outputs": [
        {
          "output_type": "stream",
          "name": "stdout",
          "text": [
            "      Name  Age       City\n",
            "0    Alice   25      Delhi\n",
            "1      Bob   30     Mumbai\n",
            "2  Charlie   35  Bangalore\n"
          ]
        }
      ]
    },
    {
      "cell_type": "code",
      "source": [
        "filtered=df[df['Age']>25]\n",
        "print(filtered)"
      ],
      "metadata": {
        "colab": {
          "base_uri": "https://localhost:8080/"
        },
        "id": "LPYObiJ7Kngr",
        "outputId": "1f825a59-57a8-4edf-f5ea-d7002a805e88"
      },
      "execution_count": null,
      "outputs": [
        {
          "output_type": "stream",
          "name": "stdout",
          "text": [
            "      Name  Age       City\n",
            "1      Bob   30     Mumbai\n",
            "2  Charlie   35  Bangalore\n"
          ]
        }
      ]
    },
    {
      "cell_type": "code",
      "source": [
        "import pandas as pd\n",
        "\n",
        "data = {\n",
        "    'Name': ['Alice', 'Bob', 'Charlie'],\n",
        "    'Age': [25, 30, 35],\n",
        "    'City': ['Delhi', 'Mumbai', 'Bangalore']\n",
        "}\n",
        "\n",
        "df = pd.DataFrame(data)\n",
        "\n",
        "print(df['Name'])\n",
        "print(df.loc[0])\n",
        "print(df.iloc[1])"
      ],
      "metadata": {
        "colab": {
          "base_uri": "https://localhost:8080/"
        },
        "id": "7gkHSwqqz9tS",
        "outputId": "0ce46272-8110-4962-b9b2-d9030de5495b"
      },
      "execution_count": null,
      "outputs": [
        {
          "output_type": "stream",
          "name": "stdout",
          "text": [
            "0      Alice\n",
            "1        Bob\n",
            "2    Charlie\n",
            "Name: Name, dtype: object\n",
            "Name    Alice\n",
            "Age        25\n",
            "City    Delhi\n",
            "Name: 0, dtype: object\n",
            "Name       Bob\n",
            "Age         30\n",
            "City    Mumbai\n",
            "Name: 1, dtype: object\n"
          ]
        }
      ]
    },
    {
      "cell_type": "code",
      "source": [
        "import pandas as pd\n",
        "\n",
        "data = {\n",
        "    'Name': ['Alice', 'Bob', 'Charlie'],\n",
        "    'age': [25, 30, 35],\n",
        "    'City': ['Delhi','Mumbai','Bangalore'],\n",
        "    'salary':[50000,60000,70000],\n",
        "}\n",
        "df = pd.DataFrame(data)\n",
        "df['age']=df['age']+1\n",
        "print(df)"
      ],
      "metadata": {
        "colab": {
          "base_uri": "https://localhost:8080/"
        },
        "id": "LUIvrnDy2F4J",
        "outputId": "0b1e9007-7b94-46ba-cc54-b24c5819af52"
      },
      "execution_count": null,
      "outputs": [
        {
          "output_type": "stream",
          "name": "stdout",
          "text": [
            "      Name  age       City  salary\n",
            "0    Alice   26      Delhi   50000\n",
            "1      Bob   31     Mumbai   60000\n",
            "2  Charlie   36  Bangalore   70000\n"
          ]
        }
      ]
    },
    {
      "cell_type": "code",
      "source": [
        "import pandas as pd\n",
        "first = ['Apple', 'Mango', 'Banana', 'PineApple', 'Grapes', 'Watermelon']\n",
        "df = pd.DataFrame(first, columns=['Fruit'])\n",
        "print(df)"
      ],
      "metadata": {
        "colab": {
          "base_uri": "https://localhost:8080/"
        },
        "id": "l9DRrg5a6-UD",
        "outputId": "6094c0d8-5adc-4b94-df19-e2649e939d04"
      },
      "execution_count": null,
      "outputs": [
        {
          "output_type": "stream",
          "name": "stdout",
          "text": [
            "        Fruit\n",
            "0       Apple\n",
            "1       Mango\n",
            "2      Banana\n",
            "3   PineApple\n",
            "4      Grapes\n",
            "5  Watermelon\n"
          ]
        }
      ]
    },
    {
      "cell_type": "code",
      "source": [
        "import pandas as pd\n",
        "data ={'Name':['Tom', 'nick', 'krish', 'jack'], 'Age':[20, 21, 19, 18]}\n",
        "df = pd.DataFrame(data)\n",
        "print(df)\n"
      ],
      "metadata": {
        "colab": {
          "base_uri": "https://localhost:8080/"
        },
        "id": "W-iZ8l9T7xTx",
        "outputId": "8cec94cb-0c9e-41ed-91bb-5dc2283bca2e"
      },
      "execution_count": null,
      "outputs": [
        {
          "output_type": "stream",
          "name": "stdout",
          "text": [
            "    Name  Age\n",
            "0    Tom   20\n",
            "1   nick   21\n",
            "2  krish   19\n",
            "3   jack   18\n"
          ]
        }
      ]
    },
    {
      "cell_type": "code",
      "source": [
        "import pandas as pd\n",
        "\n",
        "data = {\n",
        "    'Department': ['HR', 'HR', 'IT', 'IT', 'Finance', 'Finance'],\n",
        "    'Employee': ['Alice', 'Bob', 'Charlie', 'David', 'Eva', 'Frank'],\n",
        "    'Salary': [50000, 55000, 60000, 65000, 70000, 72000],\n",
        "    'Age': [25, 30, 28, 32, 40, 38]\n",
        "}\n",
        "\n",
        "df = pd.DataFrame(data)\n",
        "print(df)"
      ],
      "metadata": {
        "colab": {
          "base_uri": "https://localhost:8080/"
        },
        "id": "avn3kVOd_1WW",
        "outputId": "0e9b695e-99ff-4290-aba9-988c635f948b"
      },
      "execution_count": null,
      "outputs": [
        {
          "output_type": "stream",
          "name": "stdout",
          "text": [
            "  Department Employee  Salary  Age\n",
            "0         HR    Alice   50000   25\n",
            "1         HR      Bob   55000   30\n",
            "2         IT  Charlie   60000   28\n",
            "3         IT    David   65000   32\n",
            "4    Finance      Eva   70000   40\n",
            "5    Finance    Frank   72000   38\n"
          ]
        }
      ]
    },
    {
      "cell_type": "code",
      "source": [
        "print(df['Salary'].mean())\n",
        "\n",
        "\n",
        "print(df['Age'].max())\n"
      ],
      "metadata": {
        "colab": {
          "base_uri": "https://localhost:8080/"
        },
        "id": "vABNg7X_Atn9",
        "outputId": "9039af84-c4b0-4368-d9ea-ee380d8ada39"
      },
      "execution_count": null,
      "outputs": [
        {
          "output_type": "stream",
          "name": "stdout",
          "text": [
            "62000.0\n",
            "40\n"
          ]
        }
      ]
    },
    {
      "cell_type": "code",
      "source": [
        "grouped = df.groupby('Department')['Salary'].mean()\n",
        "print(grouped)\n"
      ],
      "metadata": {
        "colab": {
          "base_uri": "https://localhost:8080/"
        },
        "id": "l-o2n_LGAxJ0",
        "outputId": "4d9f0257-3c50-46d5-9019-84d5d5ab75be"
      },
      "execution_count": null,
      "outputs": [
        {
          "output_type": "stream",
          "name": "stdout",
          "text": [
            "Department\n",
            "Finance    71000.0\n",
            "HR         52500.0\n",
            "IT         62500.0\n",
            "Name: Salary, dtype: float64\n"
          ]
        }
      ]
    },
    {
      "cell_type": "code",
      "source": [
        "grouped = df.groupby('Department')['Salary'].agg(['mean', 'max', 'min'])\n",
        "print(grouped)"
      ],
      "metadata": {
        "colab": {
          "base_uri": "https://localhost:8080/"
        },
        "id": "BZfdzGFVAyfN",
        "outputId": "c968dcba-cc3d-442d-f53a-8d4c945d650e"
      },
      "execution_count": null,
      "outputs": [
        {
          "output_type": "stream",
          "name": "stdout",
          "text": [
            "               mean    max    min\n",
            "Department                       \n",
            "Finance     71000.0  72000  70000\n",
            "HR          52500.0  55000  50000\n",
            "IT          62500.0  65000  60000\n"
          ]
        }
      ]
    },
    {
      "cell_type": "code",
      "source": [
        "import pandas as pd\n",
        "\n",
        "data = {\n",
        "    'Department': ['HR', 'HR', 'IT', 'IT', 'Finance', 'Finance'],\n",
        "    'Employee': ['Alice', 'Bob', 'Charlie', 'David', 'Eva', 'Frank'],\n",
        "    'Salary': [50000, 55000, 60000, 65000, 70000, 72000],\n",
        "    'Age': [25, 30, 28, 32, 40, 38]\n",
        "}\n",
        "\n",
        "df = pd.DataFrame(data)\n",
        "\n",
        "df['Location'] = ['Mumbai', 'Delhi', 'Mumbai', 'Delhi', 'Mumbai', 'Delhi']\n",
        "\n",
        "grouped = df.groupby(['Department', 'Location'])['Salary'].mean()\n",
        "print(grouped)"
      ],
      "metadata": {
        "colab": {
          "base_uri": "https://localhost:8080/"
        },
        "id": "mDmrZaulmhyz",
        "outputId": "6e2cdd52-738e-4ed6-cfe3-025ff4c17a5f"
      },
      "execution_count": null,
      "outputs": [
        {
          "output_type": "stream",
          "name": "stdout",
          "text": [
            "Department  Location\n",
            "Finance     Delhi       72000.0\n",
            "            Mumbai      70000.0\n",
            "HR          Delhi       55000.0\n",
            "            Mumbai      50000.0\n",
            "IT          Delhi       65000.0\n",
            "            Mumbai      60000.0\n",
            "Name: Salary, dtype: float64\n"
          ]
        }
      ]
    },
    {
      "cell_type": "code",
      "source": [
        "import pandas as pd\n",
        "d1 = {\"Name\": [\"Pankaj\", \"Lisa\", \"David\"], \"ID\": [1, 2, 3], \"Role\": [\"CEO\", \"Editor\", \"Author\"]}\n",
        "df = pd.DataFrame(d1)\n",
        "print(df)\n",
        "df_melted = pd.melt(df, id_vars=[\"ID\"],\n",
        "value_vars=[\"Name\", \"Role\"])\n",
        "print(df_melted)\n"
      ],
      "metadata": {
        "colab": {
          "base_uri": "https://localhost:8080/"
        },
        "id": "7LR8K5FgrFDu",
        "outputId": "5a468907-92d3-4f61-a0fb-124907f57607"
      },
      "execution_count": null,
      "outputs": [
        {
          "output_type": "stream",
          "name": "stdout",
          "text": [
            "     Name  ID    Role\n",
            "0  Pankaj   1     CEO\n",
            "1    Lisa   2  Editor\n",
            "2   David   3  Author\n",
            "   ID variable   value\n",
            "0   1     Name  Pankaj\n",
            "1   2     Name    Lisa\n",
            "2   3     Name   David\n",
            "3   1     Role     CEO\n",
            "4   2     Role  Editor\n",
            "5   3     Role  Author\n"
          ]
        }
      ]
    },
    {
      "cell_type": "code",
      "source": [
        "import pandas as pd\n",
        "data = {\n",
        "    'Date': ['2024-01-01', '2024-01-01', '2024-01-02', '2024-01-02'],\n",
        "    'City': ['Mumbai', 'Delhi', 'Mumbai', 'Delhi'],\n",
        "    'Temperature': [33, 28, 34, 27]\n",
        "}\n",
        "df = pd.DataFrame(data)\n",
        "print(\"Original:\\n\", df)\n",
        "# Pivot the data\n",
        "pivoted = df.pivot(index='Date', columns='City', values='Temperature')\n",
        "print(\"\\nPivoted:\\n\", pivoted)\n"
      ],
      "metadata": {
        "colab": {
          "base_uri": "https://localhost:8080/"
        },
        "id": "sZUZCTZ3stFb",
        "outputId": "fb93af9e-f585-4024-d42e-191e7a375cbf"
      },
      "execution_count": null,
      "outputs": [
        {
          "output_type": "stream",
          "name": "stdout",
          "text": [
            "Original:\n",
            "          Date    City  Temperature\n",
            "0  2024-01-01  Mumbai           33\n",
            "1  2024-01-01   Delhi           28\n",
            "2  2024-01-02  Mumbai           34\n",
            "3  2024-01-02   Delhi           27\n",
            "\n",
            "Pivoted:\n",
            " City        Delhi  Mumbai\n",
            "Date                     \n",
            "2024-01-01     28      33\n",
            "2024-01-02     27      34\n"
          ]
        }
      ]
    },
    {
      "cell_type": "code",
      "source": [
        "import pandas as pd\n",
        "data = {\n",
        "    'Student': ['Alice', 'Bob', 'Charlie'],\n",
        "    'Math': [85, 90, 78],\n",
        "    'Science': [92, 88, 85],\n",
        "    'English': [75, 80, 72]\n",
        "}\n",
        "df = pd.DataFrame(data)\n",
        "print(\"Original Wide DataFrame:\\n\", df)\n"
      ],
      "metadata": {
        "colab": {
          "base_uri": "https://localhost:8080/"
        },
        "id": "9nwnsjYaxD8n",
        "outputId": "da0ffa0b-5857-4ec9-d790-f1ad94834500"
      },
      "execution_count": null,
      "outputs": [
        {
          "output_type": "stream",
          "name": "stdout",
          "text": [
            "Original Wide DataFrame:\n",
            "    Student  Math  Science  English\n",
            "0    Alice    85       92       75\n",
            "1      Bob    90       88       80\n",
            "2  Charlie    78       85       72\n"
          ]
        }
      ]
    },
    {
      "cell_type": "code",
      "source": [
        "import pandas as pd\n",
        "import numpy as np\n",
        "\n",
        "\n",
        "dates = pd.date_range(start='2024-01-01', periods=10, freq='D')\n",
        "\n",
        "\n",
        "ts = pd.Series(np.random.randint(100, 200, size=10), index=dates)\n",
        "\n",
        "print(ts)"
      ],
      "metadata": {
        "colab": {
          "base_uri": "https://localhost:8080/"
        },
        "id": "K065BJwdA2Nr",
        "outputId": "a4826862-7ed5-4c5c-db6b-46a0bf461142"
      },
      "execution_count": null,
      "outputs": [
        {
          "output_type": "stream",
          "name": "stdout",
          "text": [
            "2024-01-01    106\n",
            "2024-01-02    106\n",
            "2024-01-03    149\n",
            "2024-01-04    143\n",
            "2024-01-05    120\n",
            "2024-01-06    159\n",
            "2024-01-07    138\n",
            "2024-01-08    121\n",
            "2024-01-09    146\n",
            "2024-01-10    160\n",
            "Freq: D, dtype: int64\n"
          ]
        }
      ]
    },
    {
      "cell_type": "code",
      "source": [
        "import pandas as pd\n",
        "\n",
        "df = pd.DataFrame({\n",
        "    'Date': ['2024-01-01', '2024-01-02', '2024-01-03'],\n",
        "    'Value': [120, 135, 150]\n",
        "})\n",
        "\n",
        "\n",
        "df['Date'] = pd.to_datetime(df['Date'])\n",
        "\n",
        "print(df)\n"
      ],
      "metadata": {
        "colab": {
          "base_uri": "https://localhost:8080/"
        },
        "id": "-BQNc3DjBQME",
        "outputId": "b5e903dd-4925-4d4e-8168-e26f6aed52c1"
      },
      "execution_count": null,
      "outputs": [
        {
          "output_type": "stream",
          "name": "stdout",
          "text": [
            "        Date  Value\n",
            "0 2024-01-01    120\n",
            "1 2024-01-02    135\n",
            "2 2024-01-03    150\n"
          ]
        }
      ]
    },
    {
      "cell_type": "code",
      "source": [
        "df.set_index('Date', inplace=True)\n",
        "print(df)"
      ],
      "metadata": {
        "colab": {
          "base_uri": "https://localhost:8080/"
        },
        "id": "Ik5sTIhEBUvq",
        "outputId": "675b328d-49c2-4069-dcc1-c4d486a7726b"
      },
      "execution_count": null,
      "outputs": [
        {
          "output_type": "stream",
          "name": "stdout",
          "text": [
            "            Value\n",
            "Date             \n",
            "2024-01-01    120\n",
            "2024-01-02    135\n",
            "2024-01-03    150\n"
          ]
        }
      ]
    },
    {
      "cell_type": "code",
      "source": [
        "from functools import reduce\n",
        "import pandas as pd\n",
        "\n",
        "data = {\n",
        "    'Department': ['HR', 'HR', 'IT', 'IT', 'Finance', 'Finance'],\n",
        "    'Employee': ['Alice', 'Bob', 'Charlie', 'David', 'Eva', 'Frank'],\n",
        "    'Salary': [50000, 55000, 60000, 65000, 70000, 72000],\n",
        "    'Age': [25, 30, 28, 32, 40, 38]\n",
        "}\n",
        "\n",
        "df = pd.DataFrame(data)\n",
        "\n",
        "df['Name_Age'] = df.apply(\n",
        "    lambda row: reduce(lambda a, b: str(a) + '_' + str(b), [row['Employee'], row['Age']]),\n",
        "    axis=1\n",
        ")\n",
        "print(df)"
      ],
      "metadata": {
        "colab": {
          "base_uri": "https://localhost:8080/"
        },
        "id": "ZA3Xa8KxBeDr",
        "outputId": "2c56f933-b301-4a21-c732-d2f194d634df"
      },
      "execution_count": null,
      "outputs": [
        {
          "output_type": "stream",
          "name": "stdout",
          "text": [
            "  Department Employee  Salary  Age    Name_Age\n",
            "0         HR    Alice   50000   25    Alice_25\n",
            "1         HR      Bob   55000   30      Bob_30\n",
            "2         IT  Charlie   60000   28  Charlie_28\n",
            "3         IT    David   65000   32    David_32\n",
            "4    Finance      Eva   70000   40      Eva_40\n",
            "5    Finance    Frank   72000   38    Frank_38\n"
          ]
        }
      ]
    },
    {
      "cell_type": "code",
      "source": [
        "from functools import reduce\n",
        "import pandas as pd\n",
        "\n",
        "data = {\n",
        "    'Department': ['HR', 'HR', 'IT', 'IT', 'Finance', 'Finance'],\n",
        "    'Employee': ['Alice', 'Bob', 'Charlie', 'David', 'Eva', 'Frank'],\n",
        "    'Salary': [50000, 55000, 60000, 65000, 70000, 72000],\n",
        "    'Age': [25, 30, 28, 32, 40, 38]\n",
        "}\n",
        "\n",
        "df = pd.DataFrame(data)\n",
        "\n",
        "\n",
        "filtered_df = df[df['Salary'] > 52000]\n",
        "\n",
        "filtered_df = df[df['Employee'].apply(lambda x: x.startswith('A'))]\n",
        "df['Location'] = ['Mumbai', 'Delhi', 'Mumbai', 'Delhi', 'Mumbai', 'Delhi']\n",
        "\n",
        "grouped = df.groupby(['Department', 'Location'])['Salary'].mean()\n",
        "print(grouped)"
      ],
      "metadata": {
        "colab": {
          "base_uri": "https://localhost:8080/"
        },
        "id": "3NeYjG1HBlLD",
        "outputId": "2bee81be-909c-4b70-98fe-8101590ed35a"
      },
      "execution_count": null,
      "outputs": [
        {
          "output_type": "stream",
          "name": "stdout",
          "text": [
            "Department  Location\n",
            "Finance     Delhi       72000.0\n",
            "            Mumbai      70000.0\n",
            "HR          Delhi       55000.0\n",
            "            Mumbai      50000.0\n",
            "IT          Delhi       65000.0\n",
            "            Mumbai      60000.0\n",
            "Name: Salary, dtype: float64\n"
          ]
        }
      ]
    },
    {
      "cell_type": "code",
      "source": [
        "import pandas as pd\n",
        "import numpy as np\n",
        "from functools import reduce\n",
        "\n",
        "df = pd.DataFrame({\n",
        "'Name': ['Alice', 'Bob', 'Charlie', 'David'],\n",
        "'Age': [25, 32, 30, 29],\n",
        "'Salary': [50000, 60000, 55000, 52000]\n",
        "})\n",
        "print(df)"
      ],
      "metadata": {
        "colab": {
          "base_uri": "https://localhost:8080/"
        },
        "id": "KxZYPY7KB0yD",
        "outputId": "d2d89ec5-4f90-4db3-f7b5-2e34fc854baf"
      },
      "execution_count": null,
      "outputs": [
        {
          "output_type": "stream",
          "name": "stdout",
          "text": [
            "      Name  Age  Salary\n",
            "0    Alice   25   50000\n",
            "1      Bob   32   60000\n",
            "2  Charlie   30   55000\n",
            "3    David   29   52000\n"
          ]
        }
      ]
    },
    {
      "cell_type": "code",
      "source": [
        "import pandas as pd\n",
        "import numpy as np\n",
        "from functools import reduce\n",
        "\n",
        "df = pd.DataFrame({\n",
        "'Name': ['Alice', 'Bob', 'Charlie', 'David'],\n",
        "'Age': [25, 32, 30, 29],\n",
        "'Salary': [50000, 60000, 55000, 52000]\n",
        "})\n",
        "print(df)\n",
        "df['Updated_Salary'] = df['Salary'].apply(lambda x: x * 1.10)\n",
        "\n",
        "df['Age_Group'] = df['Age'].apply(lambda x: 'Young' if x < 30 else 'Adult')"
      ],
      "metadata": {
        "colab": {
          "base_uri": "https://localhost:8080/"
        },
        "id": "_fbZMHS3B4Kj",
        "outputId": "aaff2fde-5492-4ab4-afe2-ae4899169f85"
      },
      "execution_count": null,
      "outputs": [
        {
          "output_type": "stream",
          "name": "stdout",
          "text": [
            "      Name  Age  Salary\n",
            "0    Alice   25   50000\n",
            "1      Bob   32   60000\n",
            "2  Charlie   30   55000\n",
            "3    David   29   52000\n"
          ]
        }
      ]
    },
    {
      "cell_type": "code",
      "source": [
        "import matplotlib.pyplot as plt\n",
        "\n",
        "categories = ['Category A', 'Category B', 'Category C', 'Category D', 'Category E']\n",
        "amounts = [25, 50, 30, 20,10]\n",
        "\n",
        "plt.bar(categories, amounts)\n",
        "\n",
        "plt.xlabel('Categories')\n",
        "plt.ylabel('Amounts')\n",
        "plt.title('Bar Chart of Amounts by Categorys')\n",
        "\n",
        "plt.show()"
      ],
      "metadata": {
        "colab": {
          "base_uri": "https://localhost:8080/",
          "height": 472
        },
        "id": "1jVgGP5qB7M6",
        "outputId": "3d48d349-ccde-4580-befe-78bdde3950c4"
      },
      "execution_count": null,
      "outputs": [
        {
          "output_type": "display_data",
          "data": {
            "text/plain": [
              "<Figure size 640x480 with 1 Axes>"
            ],
            "image/png": "[encoded data removed]"
          },
          "metadata": {}
        }
      ]
    },
    {
      "cell_type": "code",
      "source": [
        "import matplotlib.pyplot as plt\n",
        "\n",
        "categories = ['Category A', 'Category B', 'Category C', 'Category D',]\n",
        "amounts = [25, 30, 50, 25]\n",
        "\n",
        "plt.pie(amounts, labels=categories, autopct='%1.1f%%')\n",
        "\n",
        "plt.title('Pie Chart of Amounts by Category')"
      ],
      "metadata": {
        "colab": {
          "base_uri": "https://localhost:8080/",
          "height": 445
        },
        "id": "PixndM-bB_ZC",
        "outputId": "ea7f420a-cfb3-4956-a8ce-6b0de751c9ad"
      },
      "execution_count": null,
      "outputs": [
        {
          "output_type": "execute_result",
          "data": {
            "text/plain": [
              "Text(0.5, 1.0, 'Pie Chart of Amounts by Category')"
            ]
          },
          "metadata": {},
          "execution_count": 64
        },
        {
          "output_type": "display_data",
          "data": {
            "text/plain": [
              "<Figure size 640x480 with 1 Axes>"
            ],
            "image/png": "[encoded data removed]"
          },
          "metadata": {}
        }
      ]
    },
    {
      "cell_type": "code",
      "source": [
        "import matplotlib.pyplot as plt\n",
        "\n",
        "years = [2010, 2011, 2012, 2013, 2014]\n",
        "amounts = [100, 120, 140, 110, 150]\n",
        "\n",
        "plt.plot(years, amounts, marker='o', linestyle='-')\n",
        "\n",
        "plt.xlabel('Year')\n",
        "plt.ylabel('Amount')\n",
        "\n",
        "plt.title('Line Chart of Amounts Over Time')\n",
        "\n",
        "plt.grid(True)\n",
        "plt.show()"
      ],
      "metadata": {
        "colab": {
          "base_uri": "https://localhost:8080/",
          "height": 472
        },
        "id": "0mKK9ORCCDF0",
        "outputId": "2521f4cd-907f-49d1-c183-df7b54eb5957"
      },
      "execution_count": null,
      "outputs": [
        {
          "output_type": "display_data",
          "data": {
            "text/plain": [
              "<Figure size 640x480 with 1 Axes>"
            ],
            "image/png": "[encoded data removed]"
          },
          "metadata": {}
        }
      ]
    },
    {
      "cell_type": "code",
      "source": [
        "import matplotlib.pyplot as plt\n",
        "\n",
        "x = [10, 20, 30, 40, 50]\n",
        "y = [50, 40, 30, 20, 10]\n",
        "\n",
        "plt.scatter(x, y)\n",
        "\n",
        "plt.xlabel('X-Axis')\n",
        "plt.ylabel('Y-Axis')\n",
        "plt.title('Scatter Plot of X vs. Y')\n",
        "\n",
        "plt.grid(True)\n",
        "plt.show()"
      ],
      "metadata": {
        "colab": {
          "base_uri": "https://localhost:8080/",
          "height": 472
        },
        "id": "lCILzxb2CNs7",
        "outputId": "ce5bc535-514f-43fb-fcd3-1aa322990779"
      },
      "execution_count": null,
      "outputs": [
        {
          "output_type": "display_data",
          "data": {
            "text/plain": [
              "<Figure size 640x480 with 1 Axes>"
            ],
            "image/png": "[encoded data removed]"
          },
          "metadata": {}
        }
      ]
    },
    {
      "cell_type": "code",
      "source": [
        "import matplotlib.pyplot as plt\n",
        "import numpy as np\n",
        "\n",
        "data = np.random.randn(1000)\n",
        "\n",
        "plt.hist(data, bins=20, edgecolor='k')\n",
        "\n",
        "plt.xlabel('Value')\n",
        "plt.ylabel('Frequency')\n",
        "plt.title('Histogram of Data')\n",
        "\n",
        "plt.show()"
      ],
      "metadata": {
        "id": "gy1-IiueCctr",
        "colab": {
          "base_uri": "https://localhost:8080/",
          "height": 472
        },
        "outputId": "138be79b-f1b1-4a36-c6ac-3f889f2db811"
      },
      "execution_count": null,
      "outputs": [
        {
          "output_type": "display_data",
          "data": {
            "text/plain": [
              "<Figure size 640x480 with 1 Axes>"
            ],
            "image/png": "[encoded data removed]"
          },
          "metadata": {}
        }
      ]
    },
    {
      "cell_type": "code",
      "source": [
        "import matplotlib.pyplot as plt\n",
        "import numpy as np\n",
        "\n",
        "mu, sigma = 0, 1\n",
        "data = np.random.normal(mu, sigma, 1000)\n",
        "\n",
        "plt.hist(data, bins=30, edgecolor='k', alpha=0.7)\n",
        "\n",
        "plt.xlabel('Value')\n",
        "plt.ylabel('Frequency')\n",
        "plt.title('Histogram of a Normal Distribution')\n",
        "\n",
        "plt.grid(True)\n",
        "plt.show()"
      ],
      "metadata": {
        "colab": {
          "base_uri": "https://localhost:8080/",
          "height": 472
        },
        "id": "G6rxRApiClND",
        "outputId": "05496bb5-3a75-46c4-87d6-7efb7259858f"
      },
      "execution_count": null,
      "outputs": [
        {
          "output_type": "display_data",
          "data": {
            "text/plain": [
              "<Figure size 640x480 with 1 Axes>"
            ],
            "image/png": "[encoded data removed]"
          },
          "metadata": {}
        }
      ]
    },
    {
      "cell_type": "code",
      "source": [
        "import seaborn as sns\n",
        "import numpy as np\n",
        "import matplotlib.pyplot as plt\n",
        "\n",
        "mu, sigma = 0, 1\n",
        "data = np.random.normal(mu, sigma, 1000)\n",
        "\n",
        "sns.kdeplot(data, fill=True)\n",
        "\n",
        "plt.xlabel('Value')\n",
        "plt.ylabel('Density')\n",
        "plt.title('Kernel Density Estimation of a Normal Distribution')\n",
        "\n",
        "plt.show()\n"
      ],
      "metadata": {
        "id": "f83LmnDnBuCW",
        "colab": {
          "base_uri": "https://localhost:8080/",
          "height": 472
        },
        "outputId": "a4b4d2f7-9e27-48d7-d2b7-d4af2fa5bae6"
      },
      "execution_count": null,
      "outputs": [
        {
          "output_type": "display_data",
          "data": {
            "text/plain": [
              "<Figure size 640x480 with 1 Axes>"
            ],
            "image/png": "[encoded data removed]"
          },
          "metadata": {}
        }
      ]
    },
    {
      "cell_type": "code",
      "source": [
        "import seaborn as sns\n",
        "import numpy as np\n",
        "import matplotlib.pyplot as plt\n",
        "\n",
        "data1 = np.random.normal(0, 1, 1000)\n",
        "data2 = np.random.normal(2, 0.5, 1000)\n",
        "\n",
        "sns.boxplot(data=[data1, data2])\n",
        "\n",
        "plt.xlabel('Data')\n",
        "plt.ylabel('Value')\n",
        "plt.title('Box Plot of Two Normal Distributions')\n",
        "\n",
        "plt.show()"
      ],
      "metadata": {
        "colab": {
          "base_uri": "https://localhost:8080/",
          "height": 472
        },
        "id": "DF3hktmJ7Vvg",
        "outputId": "f8018f25-9049-4300-dbff-dbc89f663753"
      },
      "execution_count": null,
      "outputs": [
        {
          "output_type": "display_data",
          "data": {
            "text/plain": [
              "<Figure size 640x480 with 1 Axes>"
            ],
            "image/png": "[encoded data removed]"
          },
          "metadata": {}
        }
      ]
    },
    {
      "cell_type": "code",
      "source": [
        "import matplotlib.pyplot as plt\n",
        "\n",
        "categories = ['category A', 'category B', 'category C']\n",
        "proportions = [0.4,0.3,0.3]\n",
        "\n",
        "plt.pie(proportions, labels=categories, autopct='%1.1f%%')\n",
        "plt.title('Pie Chart of proportions')\n",
        "plt.show()"
      ],
      "metadata": {
        "colab": {
          "base_uri": "https://localhost:8080/",
          "height": 428
        },
        "id": "JMtTGfds-kBe",
        "outputId": "9d8abef2-38cc-450c-ff3f-7be162bef368"
      },
      "execution_count": null,
      "outputs": [
        {
          "output_type": "display_data",
          "data": {
            "text/plain": [
              "<Figure size 640x480 with 1 Axes>"
            ],
            "image/png": "[encoded data removed]"
          },
          "metadata": {}
        }
      ]
    },
    {
      "cell_type": "code",
      "source": [
        "import matplotlib.pyplot as plt\n",
        "categories = ['Category A', 'Category B', 'Category C']\n",
        "proportions1 = [0.2, 0.4, 0.1]\n",
        "proportions2 = [0.3, 0.2, 0.4]\n",
        "plt.bar(categories, proportions1, label='Group 1')\n",
        "plt.bar(categories, proportions2, bottom=proportions1, label='Group 2')\n",
        "plt.xlabel('Categories')\n",
        "plt.ylabel('Proportions')\n",
        "plt.title('Stacked Bar Chart of Proportions')\n",
        "plt.legend()\n",
        "plt.show()"
      ],
      "metadata": {
        "colab": {
          "base_uri": "https://localhost:8080/",
          "height": 472
        },
        "id": "qlGHPGia-qVl",
        "outputId": "912462f2-04d3-4530-d13c-276bee75fc7c"
      },
      "execution_count": null,
      "outputs": [
        {
          "output_type": "display_data",
          "data": {
            "text/plain": [
              "<Figure size 640x480 with 1 Axes>"
            ],
            "image/png": "[encoded data removed]"
          },
          "metadata": {}
        }
      ]
    },
    {
      "cell_type": "code",
      "source": [
        "import numpy as np\n",
        "import pandas as pd\n",
        "import matplotlib.pyplot as plt\n",
        "\n",
        "# Sample length‑weight data\n",
        "length = np.array([10, 12, 15, 18, 20])\n",
        "weight = np.array([15, 22, 32, 45, 55])\n",
        "\n",
        "df = pd.DataFrame({'Length_cm': length, 'Weight_g': weight})\n",
        "print(df)\n",
        "\n",
        "plt.bar(df['Length_cm'], df['Weight_g'])\n",
        "plt.title(\"Length vs Weight\")\n",
        "plt.xlabel(\"Length (cm)\")\n",
        "plt.ylabel(\"Weight (g)\")\n",
        "plt.show()"
      ],
      "metadata": {
        "id": "BK6J4d8GCYkC",
        "colab": {
          "base_uri": "https://localhost:8080/",
          "height": 576
        },
        "outputId": "0cf477a5-ddea-4eae-dbcf-40e97b5c095f"
      },
      "execution_count": null,
      "outputs": [
        {
          "output_type": "stream",
          "name": "stdout",
          "text": [
            "   Length_cm  Weight_g\n",
            "0         10        15\n",
            "1         12        22\n",
            "2         15        32\n",
            "3         18        45\n",
            "4         20        55\n"
          ]
        },
        {
          "output_type": "display_data",
          "data": {
            "text/plain": [
              "<Figure size 640x480 with 1 Axes>"
            ],
            "image/png": "[encoded data removed]"
          },
          "metadata": {}
        }
      ]
    },
    {
      "cell_type": "code",
      "source": [
        "import pandas as pd\n",
        "from sklearn.datasets import load_iris\n",
        "import matplotlib.pyplot as plt\n",
        "\n",
        "iris = load_iris()\n",
        "df = pd.DataFrame(iris.data, columns=iris.feature_names)\n",
        "\n",
        "\n",
        "plt.hist(df['sepal length (cm)'], bins=10, color='skyblue')\n",
        "plt.title(\"Distribution of Sepal Length\")\n",
        "plt.xlabel(\"Sepal Length (cm)\")\n",
        "plt.ylabel(\"Frequency\")\n",
        "plt.show()"
      ],
      "metadata": {
        "colab": {
          "base_uri": "https://localhost:8080/",
          "height": 472
        },
        "id": "vDQACQgyCVtq",
        "outputId": "2c4a163e-8d67-44c0-ecde-e6a5800cda36"
      },
      "execution_count": null,
      "outputs": [
        {
          "output_type": "display_data",
          "data": {
            "text/plain": [
              "<Figure size 640x480 with 1 Axes>"
            ],
            "image/png": "[encoded data removed]"
          },
          "metadata": {}
        }
      ]
    },
    {
      "cell_type": "code",
      "source": [
        "import pandas as pd\n",
        "import matplotlib.pyplot as plt\n",
        "from sklearn.datasets import load_iris\n",
        "\n",
        "\n",
        "iris = load_iris()\n",
        "df = pd.DataFrame(iris.data, columns=iris.feature_names)\n",
        "\n",
        "x = df['sepal length (cm)']\n",
        "y = df['sepal width (cm)']\n",
        "\n",
        "plt.scatter(x, y)\n",
        "plt.xlabel('Sepal Length (cm)')\n",
        "plt.ylabel('Sepal Width (cm)')\n",
        "plt.title('Scatter Plot for Iris Dataset')\n",
        "plt.legend()\n",
        "plt.grid(True)\n",
        "plt.show()"
      ],
      "metadata": {
        "colab": {
          "base_uri": "https://localhost:8080/",
          "height": 507
        },
        "id": "L6-7BgEgDnqx",
        "outputId": "73e7d13a-9956-4e1e-b6f1-595680e4b264"
      },
      "execution_count": null,
      "outputs": [
        {
          "output_type": "stream",
          "name": "stderr",
          "text": [
            "/tmp/ipython-input-2130841258.py:16: UserWarning: No artists with labels found to put in legend.  Note that artists whose label start with an underscore are ignored when legend() is called with no argument.\n",
            "  plt.legend()\n"
          ]
        },
        {
          "output_type": "display_data",
          "data": {
            "text/plain": [
              "<Figure size 640x480 with 1 Axes>"
            ],
            "image/png": "[encoded data removed]"
          },
          "metadata": {}
        }
      ]
    },
    {
      "cell_type": "code",
      "source": [
        "from sklearn.datasets import load_iris\n",
        "import matplotlib.pyplot as plt\n",
        "\n",
        "\n",
        "iris = load_iris()\n",
        "sepal_lengths = iris.data[:, 0]\n",
        "species = iris.target\n",
        "\n",
        "\n",
        "plt.scatter(range(len(sepal_lengths)), sepal_lengths, c=species)\n",
        "plt.title(\"Sepal Length of Iris Flowers\")\n",
        "plt.xlabel(\"Sample Index\")\n",
        "plt.ylabel(\"Sepal Length (cm)\")\n",
        "plt.legend()\n",
        "plt.grid(True)\n",
        "plt.show()"
      ],
      "metadata": {
        "colab": {
          "base_uri": "https://localhost:8080/",
          "height": 507
        },
        "id": "lNCo06FrD3S3",
        "outputId": "50fd37fb-0336-425b-f00e-017d25c49b9b"
      },
      "execution_count": null,
      "outputs": [
        {
          "output_type": "stream",
          "name": "stderr",
          "text": [
            "/tmp/ipython-input-459623010.py:14: UserWarning: No artists with labels found to put in legend.  Note that artists whose label start with an underscore are ignored when legend() is called with no argument.\n",
            "  plt.legend()\n"
          ]
        },
        {
          "output_type": "display_data",
          "data": {
            "text/plain": [
              "<Figure size 640x480 with 1 Axes>"
            ],
            "image/png": "[encoded data removed]"
          },
          "metadata": {}
        }
      ]
    },
    {
      "cell_type": "code",
      "source": [
        "import pandas as pd\n",
        "from sklearn.datasets import load_iris\n",
        "\n",
        "iris = load_iris()\n",
        "df = pd.DataFrame(iris.data, columns=iris.feature_names)\n",
        "df.head()"
      ],
      "metadata": {
        "colab": {
          "base_uri": "https://localhost:8080/",
          "height": 206
        },
        "id": "wNkILxNGFY4V",
        "outputId": "395a334e-2528-4058-a3c2-921cee71e364"
      },
      "execution_count": null,
      "outputs": [
        {
          "output_type": "execute_result",
          "data": {
            "text/plain": [
              "   sepal length (cm)  sepal width (cm)  petal length (cm)  petal width (cm)\n",
              "0                5.1               3.5                1.4               0.2\n",
              "1                4.9               3.0                1.4               0.2\n",
              "2                4.7               3.2                1.3               0.2\n",
              "3                4.6               3.1                1.5               0.2\n",
              "4                5.0               3.6                1.4               0.2"
            ],
            "text/html": [
              "\n",
              "  <div id=\"df-e5110f9f-b897-41c5-801e-89e5f885a739\" class=\"colab-df-container\">\n",
              "    <div>\n",
              "<style scoped>\n",
              "    .dataframe tbody tr th:only-of-type {\n",
              "        vertical-align: middle;\n",
              "    }\n",
              "\n",
              "    .dataframe tbody tr th {\n",
              "        vertical-align: top;\n",
              "    }\n",
              "\n",
              "    .dataframe thead th {\n",
              "        text-align: right;\n",
              "    }\n",
              "</style>\n",
              "<table border=\"1\" class=\"dataframe\">\n",
              "  <thead>\n",
              "    <tr style=\"text-align: right;\">\n",
              "      <th></th>\n",
              "      <th>sepal length (cm)</th>\n",
              "      <th>sepal width (cm)</th>\n",
              "      <th>petal length (cm)</th>\n",
              "      <th>petal width (cm)</th>\n",
              "    </tr>\n",
              "  </thead>\n",
              "  <tbody>\n",
              "    <tr>\n",
              "      <th>0</th>\n",
              "      <td>5.1</td>\n",
              "      <td>3.5</td>\n",
              "      <td>1.4</td>\n",
              "      <td>0.2</td>\n",
              "    </tr>\n",
              "    <tr>\n",
              "      <th>1</th>\n",
              "      <td>4.9</td>\n",
              "      <td>3.0</td>\n",
              "      <td>1.4</td>\n",
              "      <td>0.2</td>\n",
              "    </tr>\n",
              "    <tr>\n",
              "      <th>2</th>\n",
              "      <td>4.7</td>\n",
              "      <td>3.2</td>\n",
              "      <td>1.3</td>\n",
              "      <td>0.2</td>\n",
              "    </tr>\n",
              "    <tr>\n",
              "      <th>3</th>\n",
              "      <td>4.6</td>\n",
              "      <td>3.1</td>\n",
              "      <td>1.5</td>\n",
              "      <td>0.2</td>\n",
              "    </tr>\n",
              "    <tr>\n",
              "      <th>4</th>\n",
              "      <td>5.0</td>\n",
              "      <td>3.6</td>\n",
              "      <td>1.4</td>\n",
              "      <td>0.2</td>\n",
              "    </tr>\n",
              "  </tbody>\n",
              "</table>\n",
              "</div>\n",
              "    <div class=\"colab-df-buttons\">\n",
              "\n",
              "  <div class=\"colab-df-container\">\n",
              "    <button class=\"colab-df-convert\" onclick=\"convertToInteractive('df-e5110f9f-b897-41c5-801e-89e5f885a739')\"\n",
              "            title=\"Convert this dataframe to an interactive table.\"\n",
              "            style=\"display:none;\">\n",
              "\n",
              "  <svg xmlns=\"http://www.w3.org/2000/svg\" height=\"24px\" viewBox=\"0 -960 960 960\">\n",
              "    <path d=\"M120-120v-720h720v720H120Zm60-500h600v-160H180v160Zm220 220h160v-160H400v160Zm0 220h160v-160H400v160ZM180-400h160v-160H180v160Zm440 0h160v-160H620v160ZM180-180h160v-160H180v160Zm440 0h160v-160H620v160Z\"/>\n",
              "  </svg>\n",
              "    </button>\n",
              "\n",
              "  <style>\n",
              "    .colab-df-container {\n",
              "      display:flex;\n",
              "      gap: 12px;\n",
              "    }\n",
              "\n",
              "    .colab-df-convert {\n",
              "      background-color: #E8F0FE;\n",
              "      border: none;\n",
              "      border-radius: 50%;\n",
              "      cursor: pointer;\n",
              "      display: none;\n",
              "      fill: #1967D2;\n",
              "      height: 32px;\n",
              "      padding: 0 0 0 0;\n",
              "      width: 32px;\n",
              "    }\n",
              "\n",
              "    .colab-df-convert:hover {\n",
              "      background-color: #E2EBFA;\n",
              "      box-shadow: 0px 1px 2px rgba(60, 64, 67, 0.3), 0px 1px 3px 1px rgba(60, 64, 67, 0.15);\n",
              "      fill: #174EA6;\n",
              "    }\n",
              "\n",
              "    .colab-df-buttons div {\n",
              "      margin-bottom: 4px;\n",
              "    }\n",
              "\n",
              "    [theme=dark] .colab-df-convert {\n",
              "      background-color: #3B4455;\n",
              "      fill: #D2E3FC;\n",
              "    }\n",
              "\n",
              "    [theme=dark] .colab-df-convert:hover {\n",
              "      background-color: #434B5C;\n",
              "      box-shadow: 0px 1px 3px 1px rgba(0, 0, 0, 0.15);\n",
              "      filter: drop-shadow(0px 1px 2px rgba(0, 0, 0, 0.3));\n",
              "      fill: #FFFFFF;\n",
              "    }\n",
              "  </style>\n",
              "\n",
              "    <script>\n",
              "      const buttonEl =\n",
              "        document.querySelector('#df-e5110f9f-b897-41c5-801e-89e5f885a739 button.colab-df-convert');\n",
              "      buttonEl.style.display =\n",
              "        google.colab.kernel.accessAllowed ? 'block' : 'none';\n",
              "\n",
              "      async function convertToInteractive(key) {\n",
              "        const element = document.querySelector('#df-e5110f9f-b897-41c5-801e-89e5f885a739');\n",
              "        const dataTable =\n",
              "          await google.colab.kernel.invokeFunction('convertToInteractive',\n",
              "                                                    [key], {});\n",
              "        if (!dataTable) return;\n",
              "\n",
              "        const docLinkHtml = 'Like what you see? Visit the ' +\n",
              "          '<a target=\"_blank\" href=https://colab.research.google.com/notebooks/data_table.ipynb>data table notebook</a>'\n",
              "          + ' to learn more about interactive tables.';\n",
              "        element.innerHTML = '';\n",
              "        dataTable['output_type'] = 'display_data';\n",
              "        await google.colab.output.renderOutput(dataTable, element);\n",
              "        const docLink = document.createElement('div');\n",
              "        docLink.innerHTML = docLinkHtml;\n",
              "        element.appendChild(docLink);\n",
              "      }\n",
              "    </script>\n",
              "  </div>\n",
              "\n",
              "\n",
              "    <div id=\"df-6afbe5ea-4c81-478d-9249-f6146183be21\">\n",
              "      <button class=\"colab-df-quickchart\" onclick=\"quickchart('df-6afbe5ea-4c81-478d-9249-f6146183be21')\"\n",
              "                title=\"Suggest charts\"\n",
              "                style=\"display:none;\">\n",
              "\n",
              "<svg xmlns=\"http://www.w3.org/2000/svg\" height=\"24px\"viewBox=\"0 0 24 24\"\n",
              "     width=\"24px\">\n",
              "    <g>\n",
              "        <path d=\"M19 3H5c-1.1 0-2 .9-2 2v14c0 1.1.9 2 2 2h14c1.1 0 2-.9 2-2V5c0-1.1-.9-2-2-2zM9 17H7v-7h2v7zm4 0h-2V7h2v10zm4 0h-2v-4h2v4z\"/>\n",
              "    </g>\n",
              "</svg>\n",
              "      </button>\n",
              "\n",
              "<style>\n",
              "  .colab-df-quickchart {\n",
              "      --bg-color: #E8F0FE;\n",
              "      --fill-color: #1967D2;\n",
              "      --hover-bg-color: #E2EBFA;\n",
              "      --hover-fill-color: #174EA6;\n",
              "      --disabled-fill-color: #AAA;\n",
              "      --disabled-bg-color: #DDD;\n",
              "  }\n",
              "\n",
              "  [theme=dark] .colab-df-quickchart {\n",
              "      --bg-color: #3B4455;\n",
              "      --fill-color: #D2E3FC;\n",
              "      --hover-bg-color: #434B5C;\n",
              "      --hover-fill-color: #FFFFFF;\n",
              "      --disabled-bg-color: #3B4455;\n",
              "      --disabled-fill-color: #666;\n",
              "  }\n",
              "\n",
              "  .colab-df-quickchart {\n",
              "    background-color: var(--bg-color);\n",
              "    border: none;\n",
              "    border-radius: 50%;\n",
              "    cursor: pointer;\n",
              "    display: none;\n",
              "    fill: var(--fill-color);\n",
              "    height: 32px;\n",
              "    padding: 0;\n",
              "    width: 32px;\n",
              "  }\n",
              "\n",
              "  .colab-df-quickchart:hover {\n",
              "    background-color: var(--hover-bg-color);\n",
              "    box-shadow: 0 1px 2px rgba(60, 64, 67, 0.3), 0 1px 3px 1px rgba(60, 64, 67, 0.15);\n",
              "    fill: var(--button-hover-fill-color);\n",
              "  }\n",
              "\n",
              "  .colab-df-quickchart-complete:disabled,\n",
              "  .colab-df-quickchart-complete:disabled:hover {\n",
              "    background-color: var(--disabled-bg-color);\n",
              "    fill: var(--disabled-fill-color);\n",
              "    box-shadow: none;\n",
              "  }\n",
              "\n",
              "  .colab-df-spinner {\n",
              "    border: 2px solid var(--fill-color);\n",
              "    border-color: transparent;\n",
              "    border-bottom-color: var(--fill-color);\n",
              "    animation:\n",
              "      spin 1s steps(1) infinite;\n",
              "  }\n",
              "\n",
              "  @keyframes spin {\n",
              "    0% {\n",
              "      border-color: transparent;\n",
              "      border-bottom-color: var(--fill-color);\n",
              "      border-left-color: var(--fill-color);\n",
              "    }\n",
              "    20% {\n",
              "      border-color: transparent;\n",
              "      border-left-color: var(--fill-color);\n",
              "      border-top-color: var(--fill-color);\n",
              "    }\n",
              "    30% {\n",
              "      border-color: transparent;\n",
              "      border-left-color: var(--fill-color);\n",
              "      border-top-color: var(--fill-color);\n",
              "      border-right-color: var(--fill-color);\n",
              "    }\n",
              "    40% {\n",
              "      border-color: transparent;\n",
              "      border-right-color: var(--fill-color);\n",
              "      border-top-color: var(--fill-color);\n",
              "    }\n",
              "    60% {\n",
              "      border-color: transparent;\n",
              "      border-right-color: var(--fill-color);\n",
              "    }\n",
              "    80% {\n",
              "      border-color: transparent;\n",
              "      border-right-color: var(--fill-color);\n",
              "      border-bottom-color: var(--fill-color);\n",
              "    }\n",
              "    90% {\n",
              "      border-color: transparent;\n",
              "      border-bottom-color: var(--fill-color);\n",
              "    }\n",
              "  }\n",
              "</style>\n",
              "\n",
              "      <script>\n",
              "        async function quickchart(key) {\n",
              "          const quickchartButtonEl =\n",
              "            document.querySelector('#' + key + ' button');\n",
              "          quickchartButtonEl.disabled = true;  // To prevent multiple clicks.\n",
              "          quickchartButtonEl.classList.add('colab-df-spinner');\n",
              "          try {\n",
              "            const charts = await google.colab.kernel.invokeFunction(\n",
              "                'suggestCharts', [key], {});\n",
              "          } catch (error) {\n",
              "            console.error('Error during call to suggestCharts:', error);\n",
              "          }\n",
              "          quickchartButtonEl.classList.remove('colab-df-spinner');\n",
              "          quickchartButtonEl.classList.add('colab-df-quickchart-complete');\n",
              "        }\n",
              "        (() => {\n",
              "          let quickchartButtonEl =\n",
              "            document.querySelector('#df-6afbe5ea-4c81-478d-9249-f6146183be21 button');\n",
              "          quickchartButtonEl.style.display =\n",
              "            google.colab.kernel.accessAllowed ? 'block' : 'none';\n",
              "        })();\n",
              "      </script>\n",
              "    </div>\n",
              "\n",
              "    </div>\n",
              "  </div>\n"
            ],
            "application/vnd.google.colaboratory.intrinsic+json": {
              "type": "dataframe",
              "variable_name": "df",
              "summary": "{\n  \"name\": \"df\",\n  \"rows\": 150,\n  \"fields\": [\n    {\n      \"column\": \"sepal length (cm)\",\n      \"properties\": {\n        \"dtype\": \"number\",\n        \"std\": 0.8280661279778629,\n        \"min\": 4.3,\n        \"max\": 7.9,\n        \"num_unique_values\": 35,\n        \"samples\": [\n          6.2,\n          4.5,\n          5.6\n        ],\n        \"semantic_type\": \"\",\n        \"description\": \"\"\n      }\n    },\n    {\n      \"column\": \"sepal width (cm)\",\n      \"properties\": {\n        \"dtype\": \"number\",\n        \"std\": 0.435866284936698,\n        \"min\": 2.0,\n        \"max\": 4.4,\n        \"num_unique_values\": 23,\n        \"samples\": [\n          2.3,\n          4.0,\n          3.5\n        ],\n        \"semantic_type\": \"\",\n        \"description\": \"\"\n      }\n    },\n    {\n      \"column\": \"petal length (cm)\",\n      \"properties\": {\n        \"dtype\": \"number\",\n        \"std\": 1.7652982332594667,\n        \"min\": 1.0,\n        \"max\": 6.9,\n        \"num_unique_values\": 43,\n        \"samples\": [\n          6.7,\n          3.8,\n          3.7\n        ],\n        \"semantic_type\": \"\",\n        \"description\": \"\"\n      }\n    },\n    {\n      \"column\": \"petal width (cm)\",\n      \"properties\": {\n        \"dtype\": \"number\",\n        \"std\": 0.7622376689603465,\n        \"min\": 0.1,\n        \"max\": 2.5,\n        \"num_unique_values\": 22,\n        \"samples\": [\n          0.2,\n          1.2,\n          1.3\n        ],\n        \"semantic_type\": \"\",\n        \"description\": \"\"\n      }\n    }\n  ]\n}"
            }
          },
          "metadata": {},
          "execution_count": 52
        }
      ]
    },
    {
      "cell_type": "code",
      "source": [
        "import pandas as pd\n",
        "import matplotlib.pyplot as plt\n",
        "x=df['sepal length (cm)']\n",
        "y=df['sepal width (cm)']\n",
        "plt.scatter(x,y)\n",
        "plt.xlabel('sepal_length')\n",
        "plt.ylabel('sepal_width')\n",
        "plt.title('scatter plot for iris dataset')\n",
        "plt.legend()\n",
        "plt.grid(True)\n",
        "plt.show()"
      ],
      "metadata": {
        "colab": {
          "base_uri": "https://localhost:8080/",
          "height": 507
        },
        "id": "pd_fth_qKQbo",
        "outputId": "75577c7e-2dda-44ec-fbfb-ef4b0569da09"
      },
      "execution_count": null,
      "outputs": [
        {
          "output_type": "stream",
          "name": "stderr",
          "text": [
            "/tmp/ipython-input-3069921513.py:9: UserWarning: No artists with labels found to put in legend.  Note that artists whose label start with an underscore are ignored when legend() is called with no argument.\n",
            "  plt.legend()\n"
          ]
        },
        {
          "output_type": "display_data",
          "data": {
            "text/plain": [
              "<Figure size 640x480 with 1 Axes>"
            ],
            "image/png": "[encoded data removed]"
          },
          "metadata": {}
        }
      ]
    },
    {
      "cell_type": "code",
      "source": [
        "import pandas as pd\n",
        "import matplotlib.pyplot as plt\n",
        "from sklearn.datasets import load_iris\n",
        "\n",
        "\n",
        "iris = load_iris()\n",
        "df = pd.DataFrame(iris.data, columns=iris.feature_names)\n",
        "df['species'] = iris.target_names[iris.target]\n",
        "\n",
        "\n",
        "species_counts = df['species'].value_counts()\n",
        "plt.figure(figsize=(6, 4))\n",
        "species_counts.plot(kind='bar', color=['#66c2a5', '#fc8d62', '#8da0cb'])\n",
        "plt.title('Count of Each Iris Species')\n",
        "plt.xlabel('Species')\n",
        "plt.ylabel('Count')\n",
        "plt.xticks(rotation=0)\n",
        "plt.grid(axis='y', linestyle='--', alpha=0.7)\n",
        "plt.tight_layout()\n",
        "plt.show()"
      ],
      "metadata": {
        "colab": {
          "base_uri": "https://localhost:8080/",
          "height": 407
        },
        "id": "t78yhPmhLq33",
        "outputId": "e33daae6-2548-433a-a775-d475a337ecd3"
      },
      "execution_count": null,
      "outputs": [
        {
          "output_type": "display_data",
          "data": {
            "text/plain": [
              "<Figure size 600x400 with 1 Axes>"
            ],
            "image/png": "[encoded data removed]"
          },
          "metadata": {}
        }
      ]
    },
    {
      "cell_type": "code",
      "source": [
        "import pandas as pd\n",
        "import matplotlib.pyplot as plt\n",
        "from sklearn.datasets import load_iris\n",
        "\n",
        "\n",
        "iris = load_iris()\n",
        "df = pd.DataFrame(iris.data, columns=iris.feature_names)\n",
        "df['Species'] = iris.target_names[iris.target]\n",
        "\n",
        "\n",
        "setosa_df = df[df['Species'] == 'setosa']\n",
        "\n",
        "\n",
        "print(\"Iris-setosa Data:\")\n",
        "print(setosa_df.head())\n",
        "\n",
        "\n",
        "plt.figure(figsize=(6, 4))\n",
        "plt.scatter(setosa_df['petal length (cm)'], setosa_df['petal width (cm)'], color='red', label='Iris-setosa')\n",
        "plt.title('Petal Length vs Width (Iris-setosa)')\n",
        "plt.xlabel('Petal Length (cm)')\n",
        "plt.ylabel('Petal Width (cm)')\n",
        "plt.grid(True)\n",
        "plt.show()"
      ],
      "metadata": {
        "colab": {
          "base_uri": "https://localhost:8080/",
          "height": 653
        },
        "id": "_8mHDwXmNbEe",
        "outputId": "99d1682a-fbc7-46b7-93f1-b7fe0891442b"
      },
      "execution_count": null,
      "outputs": [
        {
          "output_type": "stream",
          "name": "stdout",
          "text": [
            "Iris-setosa Data:\n",
            "   sepal length (cm)  sepal width (cm)  petal length (cm)  petal width (cm)  \\\n",
            "0                5.1               3.5                1.4               0.2   \n",
            "1                4.9               3.0                1.4               0.2   \n",
            "2                4.7               3.2                1.3               0.2   \n",
            "3                4.6               3.1                1.5               0.2   \n",
            "4                5.0               3.6                1.4               0.2   \n",
            "\n",
            "  Species  \n",
            "0  setosa  \n",
            "1  setosa  \n",
            "2  setosa  \n",
            "3  setosa  \n",
            "4  setosa  \n"
          ]
        },
        {
          "output_type": "display_data",
          "data": {
            "text/plain": [
              "<Figure size 600x400 with 1 Axes>"
            ],
            "image/png": "[encoded data removed]"
          },
          "metadata": {}
        }
      ]
    },
    {
      "cell_type": "code",
      "source": [
        "import pandas as pd\n",
        "import matplotlib.pyplot as plt\n",
        "from sklearn.datasets import load_iris\n",
        "\n",
        "\n",
        "iris = load_iris()\n",
        "df = pd.DataFrame(iris.data, columns=iris.feature_names)\n",
        "df['Species'] = iris.target_names[iris.target]\n",
        "\n",
        "\n",
        "setosa_df = df[df['Species'] == 'setosa']\n",
        "\n",
        "\n",
        "print(\"Iris-setosa Data:\")\n",
        "print(setosa_df.head())\n",
        "\n",
        "\n",
        "plt.figure(figsize=(6, 4))\n",
        "scatter = plt.scatter(\n",
        "    setosa_df['petal length (cm)'],\n",
        "    setosa_df['petal width (cm)'],\n",
        "    c=setosa_df['sepal width (cm)'],\n",
        "    cmap='viridis',\n",
        "    edgecolor='black',\n",
        "    s=80\n",
        ")\n",
        "\n",
        "plt.title('Petal Length vs Width (Iris-setosa)')\n",
        "plt.xlabel('Petal Length (cm)')\n",
        "plt.ylabel('Petal Width (cm)')\n",
        "plt.grid(True)\n",
        "plt.colorbar(scatter, label='Sepal Width (cm)')\n",
        "plt.tight_layout()\n",
        "plt.show()"
      ],
      "metadata": {
        "colab": {
          "base_uri": "https://localhost:8080/",
          "height": 650
        },
        "id": "CHBwO1xiNg-U",
        "outputId": "f9af5cf0-72e2-4fcc-a621-8d4a46fbed69"
      },
      "execution_count": null,
      "outputs": [
        {
          "output_type": "stream",
          "name": "stdout",
          "text": [
            "Iris-setosa Data:\n",
            "   sepal length (cm)  sepal width (cm)  petal length (cm)  petal width (cm)  \\\n",
            "0                5.1               3.5                1.4               0.2   \n",
            "1                4.9               3.0                1.4               0.2   \n",
            "2                4.7               3.2                1.3               0.2   \n",
            "3                4.6               3.1                1.5               0.2   \n",
            "4                5.0               3.6                1.4               0.2   \n",
            "\n",
            "  Species  \n",
            "0  setosa  \n",
            "1  setosa  \n",
            "2  setosa  \n",
            "3  setosa  \n",
            "4  setosa  \n"
          ]
        },
        {
          "output_type": "display_data",
          "data": {
            "text/plain": [
              "<Figure size 600x400 with 2 Axes>"
            ],
            "image/png": "[encoded data removed]"
          },
          "metadata": {}
        }
      ]
    },
    {
      "cell_type": "code",
      "source": [
        "import pandas as pd\n",
        "import matplotlib.pyplot as plt\n",
        "import matplotlib.cm as cm\n",
        "import matplotlib.colors as colors\n",
        "\n",
        "\n",
        "\n",
        "iris = load_iris()\n",
        "df = pd.DataFrame(iris.data, columns=iris.feature_names)\n",
        "df['species'] = iris.target_names[iris.target]\n",
        "\n",
        "\n",
        "setosa_df = df[df['species'] == 'setosa'].reset_index(drop=True)\n",
        "\n",
        "\n",
        "norm = colors.Normalize(vmin=setosa_df['sepal width (cm)'].min(), vmax=setosa_df['sepal width (cm)'].max())\n",
        "mappable = cm.ScalarMappable(norm=norm, cmap='viridis')\n",
        "\n",
        "\n",
        "fig, ax = plt.subplots(figsize=(10, 5))\n",
        "bars = ax.bar(\n",
        "    setosa_df.index,\n",
        "    setosa_df['petal length (cm)'],\n",
        "    color=mappable.to_rgba(setosa_df['sepal width (cm)'])\n",
        ")\n",
        "\n",
        "ax.set_title('Iris-setosa: Petal Length (Bar Chart Colored by Sepal Width)')\n",
        "ax.set_xlabel('Sample Index')\n",
        "ax.set_ylabel('Petal Length (cm)')\n",
        "fig.colorbar(mappable, ax=ax, label='Sepal Width (cm)')\n",
        "plt.tight_layout()\n",
        "plt.show()"
      ],
      "metadata": {
        "colab": {
          "base_uri": "https://localhost:8080/",
          "height": 507
        },
        "id": "6AQb0tZXNstb",
        "outputId": "0d620350-25b8-4178-d173-3e9e1e1623f8"
      },
      "execution_count": null,
      "outputs": [
        {
          "output_type": "display_data",
          "data": {
            "text/plain": [
              "<Figure size 1000x500 with 2 Axes>"
            ],
            "image/png": "[encoded data removed]"
          },
          "metadata": {}
        }
      ]
    },
    {
      "cell_type": "code",
      "source": [
        "import pandas as pd\n",
        "import numpy as np\n",
        "import matplotlib.pyplot as plt\n",
        "from sklearn.datasets import load_iris\n",
        "\n",
        "iris = load_iris()\n",
        "df = pd.DataFrame(iris.data, columns=iris.feature_names)\n",
        "df['species'] = iris.target_names[iris.target]\n",
        "\n",
        "species_count=df['species'].value_counts()\n",
        "plt.bar(species_count.index,species_count.values,color='yellow')\n",
        "plt.xlabel('species')\n",
        "plt.ylabel('count')\n",
        "plt.title('species count')\n",
        "plt.show()"
      ],
      "metadata": {
        "colab": {
          "base_uri": "https://localhost:8080/",
          "height": 472
        },
        "id": "XJvWLINhN8Z0",
        "outputId": "1f3004c7-147a-43b8-df1f-f6899323b9df"
      },
      "execution_count": null,
      "outputs": [
        {
          "output_type": "display_data",
          "data": {
            "text/plain": [
              "<Figure size 640x480 with 1 Axes>"
            ],
            "image/png": "[encoded data removed]"
          },
          "metadata": {}
        }
      ]
    }
  ],
  "metadata": {
    "colab": {
      "provenance": [],
      "include_colab_link": true
    },
    "kernelspec": {
      "display_name": "Python 3",
      "name": "python3"
    }
  },
  "nbformat": 4,
  "nbformat_minor": 0
}